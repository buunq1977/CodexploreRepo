{
  "nbformat": 4,
  "nbformat_minor": 0,
  "metadata": {
    "colab": {
      "provenance": [],
      "collapsed_sections": [
        "3M-XAltWwXt0",
        "kNqQge-RxZZm",
        "ehuy1aDNBo-3",
        "vgoVy2cz8ixC",
        "SKniSpjiCjqg"
      ],
      "include_colab_link": true
    },
    "kernelspec": {
      "name": "python3",
      "display_name": "Python 3"
    },
    "language_info": {
      "name": "python"
    }
  },
  "cells": [
    {
      "cell_type": "markdown",
      "metadata": {
        "id": "view-in-github",
        "colab_type": "text"
      },
      "source": [
        "<a href=\"https://colab.research.google.com/github/buunq1977/CodexploreRepo/blob/main/M4.1.2d_%5BLecture%5D_Matplotlib.ipynb\" target=\"_parent\"><img src=\"https://colab.research.google.com/assets/colab-badge.svg\" alt=\"Open In Colab\"/></a>"
      ]
    },
    {
      "cell_type": "markdown",
      "metadata": {
        "id": "TctdKdhIVNJS"
      },
      "source": [
        "# **VISUALIZING WITH MATPLOTLIB**\n",
        "<img src=\"https://matplotlib.org/_static/logo2.png\" alt=\"matplotlib\" width=\"50%\"/>\n"
      ]
    },
    {
      "cell_type": "markdown",
      "metadata": {
        "id": "35e4RdXVX3D2"
      },
      "source": [
        "Matplotlib is a package for data visualization in Python. The library is built on NumPy arrays, and designed to work with the broader SciPy stack.\n",
        "\n",
        "One of Matplotlib’s most important features is its **ability to play well with many operating systems and graphics backends**. Matplotlib supports dozens of backends and output types, which means you can count on it to work regardless of which operating system you are using or which output format you wish. This cross-platform, everything-to-everyone approach has been one of the great strengths of Matplotlib. It has led to a large user base, which in turn has led to an active developer base and Matplotlib’s powerful tools and ubiquity within the scientific Python world.\n",
        "\n",
        "Matplotlib is  designed to help users to visualize data as easily as possible, with all the necessary control -- that is, by using relatively high-level commands most of the time, and still have the ability to use the low-level commands when needed.\n",
        "\n",
        "Therefore, everything in matplotlib is organized in a hierarchy. At the top of the hierarchy is the matplotlib \"state-machine environment\" which is provided by the [`matplotlib.pyplot`](https://matplotlib.org/api/_as_gen/matplotlib.pyplot.html#module-matplotlib.pyplot) module. At this level, simple functions are used to add plot elements (lines, images, text, etc.) to the current axes in the current figure.\n",
        "\n",
        "In this course, we will learn to use Matplotlib alongside with Seaborn to stylize the charts.\n",
        "\n",
        "<img src='https://i.imgur.com/O4mBgbJ.png'>"
      ]
    },
    {
      "cell_type": "markdown",
      "source": [
        "## 0. Import"
      ],
      "metadata": {
        "id": "3M-XAltWwXt0"
      }
    },
    {
      "cell_type": "code",
      "source": [
        "# Import matplotlib pyplot\n",
        "\n",
        "import matplotlib.pyplot as plt"
      ],
      "metadata": {
        "id": "XiG_yqF5wRqR"
      },
      "execution_count": null,
      "outputs": []
    },
    {
      "cell_type": "markdown",
      "metadata": {
        "id": "NF6eVVbJbasi"
      },
      "source": [
        "`matplotlib.pyplot` is a collection of command style functions that make matplotlib work like **MATLAB**. Each pyplot function makes some change to a figure: e.g., creates a figure, creates a plotting area in a figure, plots some lines in a plotting area, decorates the plot with labels, etc."
      ]
    },
    {
      "cell_type": "code",
      "source": [
        "# Import other libraries\n",
        "\n",
        "import pandas as pd\n",
        "import seaborn as sns"
      ],
      "metadata": {
        "id": "tMY5cvhAwlbA"
      },
      "execution_count": null,
      "outputs": []
    },
    {
      "cell_type": "code",
      "source": [
        "# Load data\n",
        "\n",
        "df = pd.read_csv(\n",
        "    \"https://raw.githubusercontent.com/dhminh1024/practice_datasets/master/titanic.csv\"\n",
        ")\n",
        "df.head()"
      ],
      "metadata": {
        "colab": {
          "base_uri": "https://localhost:8080/",
          "height": 206
        },
        "id": "Yn-XBbdMxTEB",
        "outputId": "aa5398ae-edcd-4e69-ad79-09f659e8fb03"
      },
      "execution_count": null,
      "outputs": [
        {
          "output_type": "execute_result",
          "data": {
            "text/plain": [
              "   PassengerId  Survived  Pclass  \\\n",
              "0            1         0       3   \n",
              "1            2         1       1   \n",
              "2            3         1       3   \n",
              "3            4         1       1   \n",
              "4            5         0       3   \n",
              "\n",
              "                                                Name     Sex   Age  SibSp  \\\n",
              "0                            Braund, Mr. Owen Harris    male  22.0      1   \n",
              "1  Cumings, Mrs. John Bradley (Florence Briggs Th...  female  38.0      1   \n",
              "2                             Heikkinen, Miss. Laina  female  26.0      0   \n",
              "3       Futrelle, Mrs. Jacques Heath (Lily May Peel)  female  35.0      1   \n",
              "4                           Allen, Mr. William Henry    male  35.0      0   \n",
              "\n",
              "   Parch            Ticket     Fare Cabin Embarked  \n",
              "0      0         A/5 21171   7.2500   NaN        S  \n",
              "1      0          PC 17599  71.2833   C85        C  \n",
              "2      0  STON/O2. 3101282   7.9250   NaN        S  \n",
              "3      0            113803  53.1000  C123        S  \n",
              "4      0            373450   8.0500   NaN        S  "
            ],
            "text/html": [
              "\n",
              "  <div id=\"df-f36661d5-9641-46ce-9c69-6e079121d090\">\n",
              "    <div class=\"colab-df-container\">\n",
              "      <div>\n",
              "<style scoped>\n",
              "    .dataframe tbody tr th:only-of-type {\n",
              "        vertical-align: middle;\n",
              "    }\n",
              "\n",
              "    .dataframe tbody tr th {\n",
              "        vertical-align: top;\n",
              "    }\n",
              "\n",
              "    .dataframe thead th {\n",
              "        text-align: right;\n",
              "    }\n",
              "</style>\n",
              "<table border=\"1\" class=\"dataframe\">\n",
              "  <thead>\n",
              "    <tr style=\"text-align: right;\">\n",
              "      <th></th>\n",
              "      <th>PassengerId</th>\n",
              "      <th>Survived</th>\n",
              "      <th>Pclass</th>\n",
              "      <th>Name</th>\n",
              "      <th>Sex</th>\n",
              "      <th>Age</th>\n",
              "      <th>SibSp</th>\n",
              "      <th>Parch</th>\n",
              "      <th>Ticket</th>\n",
              "      <th>Fare</th>\n",
              "      <th>Cabin</th>\n",
              "      <th>Embarked</th>\n",
              "    </tr>\n",
              "  </thead>\n",
              "  <tbody>\n",
              "    <tr>\n",
              "      <th>0</th>\n",
              "      <td>1</td>\n",
              "      <td>0</td>\n",
              "      <td>3</td>\n",
              "      <td>Braund, Mr. Owen Harris</td>\n",
              "      <td>male</td>\n",
              "      <td>22.0</td>\n",
              "      <td>1</td>\n",
              "      <td>0</td>\n",
              "      <td>A/5 21171</td>\n",
              "      <td>7.2500</td>\n",
              "      <td>NaN</td>\n",
              "      <td>S</td>\n",
              "    </tr>\n",
              "    <tr>\n",
              "      <th>1</th>\n",
              "      <td>2</td>\n",
              "      <td>1</td>\n",
              "      <td>1</td>\n",
              "      <td>Cumings, Mrs. John Bradley (Florence Briggs Th...</td>\n",
              "      <td>female</td>\n",
              "      <td>38.0</td>\n",
              "      <td>1</td>\n",
              "      <td>0</td>\n",
              "      <td>PC 17599</td>\n",
              "      <td>71.2833</td>\n",
              "      <td>C85</td>\n",
              "      <td>C</td>\n",
              "    </tr>\n",
              "    <tr>\n",
              "      <th>2</th>\n",
              "      <td>3</td>\n",
              "      <td>1</td>\n",
              "      <td>3</td>\n",
              "      <td>Heikkinen, Miss. Laina</td>\n",
              "      <td>female</td>\n",
              "      <td>26.0</td>\n",
              "      <td>0</td>\n",
              "      <td>0</td>\n",
              "      <td>STON/O2. 3101282</td>\n",
              "      <td>7.9250</td>\n",
              "      <td>NaN</td>\n",
              "      <td>S</td>\n",
              "    </tr>\n",
              "    <tr>\n",
              "      <th>3</th>\n",
              "      <td>4</td>\n",
              "      <td>1</td>\n",
              "      <td>1</td>\n",
              "      <td>Futrelle, Mrs. Jacques Heath (Lily May Peel)</td>\n",
              "      <td>female</td>\n",
              "      <td>35.0</td>\n",
              "      <td>1</td>\n",
              "      <td>0</td>\n",
              "      <td>113803</td>\n",
              "      <td>53.1000</td>\n",
              "      <td>C123</td>\n",
              "      <td>S</td>\n",
              "    </tr>\n",
              "    <tr>\n",
              "      <th>4</th>\n",
              "      <td>5</td>\n",
              "      <td>0</td>\n",
              "      <td>3</td>\n",
              "      <td>Allen, Mr. William Henry</td>\n",
              "      <td>male</td>\n",
              "      <td>35.0</td>\n",
              "      <td>0</td>\n",
              "      <td>0</td>\n",
              "      <td>373450</td>\n",
              "      <td>8.0500</td>\n",
              "      <td>NaN</td>\n",
              "      <td>S</td>\n",
              "    </tr>\n",
              "  </tbody>\n",
              "</table>\n",
              "</div>\n",
              "      <button class=\"colab-df-convert\" onclick=\"convertToInteractive('df-f36661d5-9641-46ce-9c69-6e079121d090')\"\n",
              "              title=\"Convert this dataframe to an interactive table.\"\n",
              "              style=\"display:none;\">\n",
              "        \n",
              "  <svg xmlns=\"http://www.w3.org/2000/svg\" height=\"24px\"viewBox=\"0 0 24 24\"\n",
              "       width=\"24px\">\n",
              "    <path d=\"M0 0h24v24H0V0z\" fill=\"none\"/>\n",
              "    <path d=\"M18.56 5.44l.94 2.06.94-2.06 2.06-.94-2.06-.94-.94-2.06-.94 2.06-2.06.94zm-11 1L8.5 8.5l.94-2.06 2.06-.94-2.06-.94L8.5 2.5l-.94 2.06-2.06.94zm10 10l.94 2.06.94-2.06 2.06-.94-2.06-.94-.94-2.06-.94 2.06-2.06.94z\"/><path d=\"M17.41 7.96l-1.37-1.37c-.4-.4-.92-.59-1.43-.59-.52 0-1.04.2-1.43.59L10.3 9.45l-7.72 7.72c-.78.78-.78 2.05 0 2.83L4 21.41c.39.39.9.59 1.41.59.51 0 1.02-.2 1.41-.59l7.78-7.78 2.81-2.81c.8-.78.8-2.07 0-2.86zM5.41 20L4 18.59l7.72-7.72 1.47 1.35L5.41 20z\"/>\n",
              "  </svg>\n",
              "      </button>\n",
              "      \n",
              "  <style>\n",
              "    .colab-df-container {\n",
              "      display:flex;\n",
              "      flex-wrap:wrap;\n",
              "      gap: 12px;\n",
              "    }\n",
              "\n",
              "    .colab-df-convert {\n",
              "      background-color: #E8F0FE;\n",
              "      border: none;\n",
              "      border-radius: 50%;\n",
              "      cursor: pointer;\n",
              "      display: none;\n",
              "      fill: #1967D2;\n",
              "      height: 32px;\n",
              "      padding: 0 0 0 0;\n",
              "      width: 32px;\n",
              "    }\n",
              "\n",
              "    .colab-df-convert:hover {\n",
              "      background-color: #E2EBFA;\n",
              "      box-shadow: 0px 1px 2px rgba(60, 64, 67, 0.3), 0px 1px 3px 1px rgba(60, 64, 67, 0.15);\n",
              "      fill: #174EA6;\n",
              "    }\n",
              "\n",
              "    [theme=dark] .colab-df-convert {\n",
              "      background-color: #3B4455;\n",
              "      fill: #D2E3FC;\n",
              "    }\n",
              "\n",
              "    [theme=dark] .colab-df-convert:hover {\n",
              "      background-color: #434B5C;\n",
              "      box-shadow: 0px 1px 3px 1px rgba(0, 0, 0, 0.15);\n",
              "      filter: drop-shadow(0px 1px 2px rgba(0, 0, 0, 0.3));\n",
              "      fill: #FFFFFF;\n",
              "    }\n",
              "  </style>\n",
              "\n",
              "      <script>\n",
              "        const buttonEl =\n",
              "          document.querySelector('#df-f36661d5-9641-46ce-9c69-6e079121d090 button.colab-df-convert');\n",
              "        buttonEl.style.display =\n",
              "          google.colab.kernel.accessAllowed ? 'block' : 'none';\n",
              "\n",
              "        async function convertToInteractive(key) {\n",
              "          const element = document.querySelector('#df-f36661d5-9641-46ce-9c69-6e079121d090');\n",
              "          const dataTable =\n",
              "            await google.colab.kernel.invokeFunction('convertToInteractive',\n",
              "                                                     [key], {});\n",
              "          if (!dataTable) return;\n",
              "\n",
              "          const docLinkHtml = 'Like what you see? Visit the ' +\n",
              "            '<a target=\"_blank\" href=https://colab.research.google.com/notebooks/data_table.ipynb>data table notebook</a>'\n",
              "            + ' to learn more about interactive tables.';\n",
              "          element.innerHTML = '';\n",
              "          dataTable['output_type'] = 'display_data';\n",
              "          await google.colab.output.renderOutput(dataTable, element);\n",
              "          const docLink = document.createElement('div');\n",
              "          docLink.innerHTML = docLinkHtml;\n",
              "          element.appendChild(docLink);\n",
              "        }\n",
              "      </script>\n",
              "    </div>\n",
              "  </div>\n",
              "  "
            ]
          },
          "metadata": {},
          "execution_count": 6
        }
      ]
    },
    {
      "cell_type": "markdown",
      "source": [
        "## 1. Multiple Subplots"
      ],
      "metadata": {
        "id": "kNqQge-RxZZm"
      }
    },
    {
      "cell_type": "markdown",
      "source": [
        "During the process of visualizing data, Matplotlib will first innitiate a figure. This figure serves as a canvas, on which subplots (axes) will be drawn.\n",
        "\n",
        "❗️ Notice that, we do not draw directly onto the figure, but on subplots.\n",
        "\n",
        "❗️ By default, one figure with one subplot will be created if there is no instruction on layout given.\n",
        "\n",
        "<img src='https://i.imgur.com/AaqxaKy.png' width=600>"
      ],
      "metadata": {
        "id": "1QvKOhARxr2L"
      }
    },
    {
      "cell_type": "code",
      "source": [
        "# Create a figure\n",
        "\n",
        "plt.figure()"
      ],
      "metadata": {
        "colab": {
          "base_uri": "https://localhost:8080/",
          "height": 52
        },
        "id": "lBBHZAMzxTux",
        "outputId": "2ae5d398-eff0-43b7-dc3a-b353fd8026d1"
      },
      "execution_count": null,
      "outputs": [
        {
          "output_type": "execute_result",
          "data": {
            "text/plain": [
              "<Figure size 432x288 with 0 Axes>"
            ]
          },
          "metadata": {},
          "execution_count": 7
        },
        {
          "output_type": "display_data",
          "data": {
            "text/plain": [
              "<Figure size 432x288 with 0 Axes>"
            ]
          },
          "metadata": {}
        }
      ]
    },
    {
      "cell_type": "code",
      "source": [
        "# Create a figure with one subplot by default\n",
        "# And draw on it\n",
        "\n",
        "plt.figure()\n",
        "sns.countplot(data=df, x=\"Pclass\")\n",
        "plt.show()"
      ],
      "metadata": {
        "colab": {
          "base_uri": "https://localhost:8080/",
          "height": 279
        },
        "id": "96fCDr3lygJG",
        "outputId": "e2735b7c-c896-457e-eea0-ba38e27ac14b"
      },
      "execution_count": null,
      "outputs": [
        {
          "output_type": "display_data",
          "data": {
            "text/plain": [
              "<Figure size 432x288 with 1 Axes>"
            ],
            "image/png": "[encoded data removed]"
          },
          "metadata": {
            "needs_background": "light"
          }
        }
      ]
    },
    {
      "cell_type": "markdown",
      "source": [
        "- Notice that the syntax of matplotlib is executed top down. User has to create a figure first, before drawing a chart and then `plt.show` to display all the open figures.\n",
        "\n",
        "- `plt.figure` also allows users to adjust the size with specific width and height measurements in inches."
      ],
      "metadata": {
        "id": "ABNSNnwIzSV_"
      }
    },
    {
      "cell_type": "code",
      "source": [
        "# Make the figure larger\n",
        "# by inches\n",
        "\n",
        "plt.figure(figsize=(20, 10))\n",
        "sns.countplot(data=df, x=\"Pclass\")\n",
        "plt.show()"
      ],
      "metadata": {
        "colab": {
          "base_uri": "https://localhost:8080/",
          "height": 606
        },
        "id": "pEZ-ttPcy1jT",
        "outputId": "6c1a976c-d156-4215-89e0-18f8d8213470"
      },
      "execution_count": null,
      "outputs": [
        {
          "output_type": "display_data",
          "data": {
            "text/plain": [
              "<Figure size 1440x720 with 1 Axes>"
            ],
            "image/png": "[encoded data removed]"
          },
          "metadata": {
            "needs_background": "light"
          }
        }
      ]
    },
    {
      "cell_type": "markdown",
      "source": [
        "To create multiple subplots in a figure, simply use `plt.subplot`. The syntax allows users to specify the layout with\n",
        "\n",
        "- number of rows\n",
        "- number of columns\n",
        "- index of the drawing chart (count from 1)\n",
        "\n",
        "For example:\n",
        "\n",
        "<img src='https://i.imgur.com/MXKt1jC.png'>"
      ],
      "metadata": {
        "id": "a37MStyy0B4_"
      }
    },
    {
      "cell_type": "code",
      "source": [
        "# Innitiate a figure\n",
        "plt.figure(figsize=(15, 5))\n",
        "\n",
        "# Point to the first subplot\n",
        "# First subplot is in the layout of 1 row, 2 columns, first slot.\n",
        "plt.subplot(121)\n",
        "sns.countplot(data=df, x=\"Pclass\")\n",
        "\n",
        "# Point to the first subplot\n",
        "# Second subplot is in the layout of 1 row, 2 columns, second slot.\n",
        "plt.subplot(122)\n",
        "sns.countplot(data=df, x=\"Survived\")\n",
        "\n",
        "plt.show()"
      ],
      "metadata": {
        "colab": {
          "base_uri": "https://localhost:8080/",
          "height": 334
        },
        "id": "XrL9irysz6He",
        "outputId": "e99c0662-50a1-4436-92c8-b99abde39d3f"
      },
      "execution_count": null,
      "outputs": [
        {
          "output_type": "display_data",
          "data": {
            "text/plain": [
              "<Figure size 1080x360 with 2 Axes>"
            ],
            "image/png": "[encoded data removed]"
          },
          "metadata": {
            "needs_background": "light"
          }
        }
      ]
    },
    {
      "cell_type": "code",
      "source": [
        "# YOUR TURN: Recreate the below visualization layout with charts as countplots of Pclass and Survived.\n",
        "# YOUR CODE HERE"
      ],
      "metadata": {
        "colab": {
          "base_uri": "https://localhost:8080/",
          "height": 606
        },
        "id": "nK2RFYGs2ctf",
        "outputId": "45a0cb0e-071c-4fa2-f754-3533371b39b4"
      },
      "execution_count": null,
      "outputs": [
        {
          "output_type": "display_data",
          "data": {
            "image/png": "[encoded data removed]",
            "text/plain": [
              "<Figure size 1080x720 with 4 Axes>"
            ]
          },
          "metadata": {
            "needs_background": "light"
          }
        }
      ]
    },
    {
      "cell_type": "code",
      "source": [
        "# @title Solution\n",
        "\n",
        "# Innitiate a figure\n",
        "plt.figure(figsize=(15, 10))\n",
        "\n",
        "# Point to the 1st subplot\n",
        "# First subplot is in the layout of 3 rows, 3 columns, first slot.\n",
        "plt.subplot(331)\n",
        "sns.countplot(data=df, x=\"Pclass\")\n",
        "\n",
        "# Point to the 3rd subplot\n",
        "# The subplot is in the layout of 3 rows, 3 columns, 3rd slot.\n",
        "plt.subplot(333)\n",
        "sns.countplot(data=df, x=\"Survived\")\n",
        "\n",
        "# Point to the 5th subplot\n",
        "# The subplot is in the layout of 3 rows, 3 columns, 5th slot.\n",
        "plt.subplot(335)\n",
        "sns.countplot(data=df, x=\"Pclass\")\n",
        "\n",
        "# Point to the 9th subplot\n",
        "# The subplot is in the layout of 3 rows, 3 columns, 9th slot.\n",
        "plt.subplot(339)\n",
        "sns.countplot(data=df, x=\"Survived\")\n",
        "\n",
        "plt.show()"
      ],
      "metadata": {
        "id": "VpeEwfki0343"
      },
      "execution_count": null,
      "outputs": []
    },
    {
      "cell_type": "markdown",
      "source": [
        "The syntax in matplotlib in hierachy. Anything that is written under a subplot call will be drawn on that subplot."
      ],
      "metadata": {
        "id": "rDRGKWTv9lAJ"
      }
    },
    {
      "cell_type": "code",
      "source": [
        "mean_fare_by_survived = df.groupby(\"Survived\")[\"Fare\"].mean().reset_index()\n",
        "mean_fare_by_survived"
      ],
      "metadata": {
        "colab": {
          "base_uri": "https://localhost:8080/",
          "height": 112
        },
        "id": "q_ykpyRg-DUx",
        "outputId": "bbf99a70-8d88-4506-94bb-ae8d872795be"
      },
      "execution_count": null,
      "outputs": [
        {
          "output_type": "execute_result",
          "data": {
            "text/plain": [
              "   Survived       Fare\n",
              "0         0  22.117887\n",
              "1         1  48.395408"
            ],
            "text/html": [
              "\n",
              "  <div id=\"df-be20cadd-f347-4655-85e4-b36268912b9c\">\n",
              "    <div class=\"colab-df-container\">\n",
              "      <div>\n",
              "<style scoped>\n",
              "    .dataframe tbody tr th:only-of-type {\n",
              "        vertical-align: middle;\n",
              "    }\n",
              "\n",
              "    .dataframe tbody tr th {\n",
              "        vertical-align: top;\n",
              "    }\n",
              "\n",
              "    .dataframe thead th {\n",
              "        text-align: right;\n",
              "    }\n",
              "</style>\n",
              "<table border=\"1\" class=\"dataframe\">\n",
              "  <thead>\n",
              "    <tr style=\"text-align: right;\">\n",
              "      <th></th>\n",
              "      <th>Survived</th>\n",
              "      <th>Fare</th>\n",
              "    </tr>\n",
              "  </thead>\n",
              "  <tbody>\n",
              "    <tr>\n",
              "      <th>0</th>\n",
              "      <td>0</td>\n",
              "      <td>22.117887</td>\n",
              "    </tr>\n",
              "    <tr>\n",
              "      <th>1</th>\n",
              "      <td>1</td>\n",
              "      <td>48.395408</td>\n",
              "    </tr>\n",
              "  </tbody>\n",
              "</table>\n",
              "</div>\n",
              "      <button class=\"colab-df-convert\" onclick=\"convertToInteractive('df-be20cadd-f347-4655-85e4-b36268912b9c')\"\n",
              "              title=\"Convert this dataframe to an interactive table.\"\n",
              "              style=\"display:none;\">\n",
              "        \n",
              "  <svg xmlns=\"http://www.w3.org/2000/svg\" height=\"24px\"viewBox=\"0 0 24 24\"\n",
              "       width=\"24px\">\n",
              "    <path d=\"M0 0h24v24H0V0z\" fill=\"none\"/>\n",
              "    <path d=\"M18.56 5.44l.94 2.06.94-2.06 2.06-.94-2.06-.94-.94-2.06-.94 2.06-2.06.94zm-11 1L8.5 8.5l.94-2.06 2.06-.94-2.06-.94L8.5 2.5l-.94 2.06-2.06.94zm10 10l.94 2.06.94-2.06 2.06-.94-2.06-.94-.94-2.06-.94 2.06-2.06.94z\"/><path d=\"M17.41 7.96l-1.37-1.37c-.4-.4-.92-.59-1.43-.59-.52 0-1.04.2-1.43.59L10.3 9.45l-7.72 7.72c-.78.78-.78 2.05 0 2.83L4 21.41c.39.39.9.59 1.41.59.51 0 1.02-.2 1.41-.59l7.78-7.78 2.81-2.81c.8-.78.8-2.07 0-2.86zM5.41 20L4 18.59l7.72-7.72 1.47 1.35L5.41 20z\"/>\n",
              "  </svg>\n",
              "      </button>\n",
              "      \n",
              "  <style>\n",
              "    .colab-df-container {\n",
              "      display:flex;\n",
              "      flex-wrap:wrap;\n",
              "      gap: 12px;\n",
              "    }\n",
              "\n",
              "    .colab-df-convert {\n",
              "      background-color: #E8F0FE;\n",
              "      border: none;\n",
              "      border-radius: 50%;\n",
              "      cursor: pointer;\n",
              "      display: none;\n",
              "      fill: #1967D2;\n",
              "      height: 32px;\n",
              "      padding: 0 0 0 0;\n",
              "      width: 32px;\n",
              "    }\n",
              "\n",
              "    .colab-df-convert:hover {\n",
              "      background-color: #E2EBFA;\n",
              "      box-shadow: 0px 1px 2px rgba(60, 64, 67, 0.3), 0px 1px 3px 1px rgba(60, 64, 67, 0.15);\n",
              "      fill: #174EA6;\n",
              "    }\n",
              "\n",
              "    [theme=dark] .colab-df-convert {\n",
              "      background-color: #3B4455;\n",
              "      fill: #D2E3FC;\n",
              "    }\n",
              "\n",
              "    [theme=dark] .colab-df-convert:hover {\n",
              "      background-color: #434B5C;\n",
              "      box-shadow: 0px 1px 3px 1px rgba(0, 0, 0, 0.15);\n",
              "      filter: drop-shadow(0px 1px 2px rgba(0, 0, 0, 0.3));\n",
              "      fill: #FFFFFF;\n",
              "    }\n",
              "  </style>\n",
              "\n",
              "      <script>\n",
              "        const buttonEl =\n",
              "          document.querySelector('#df-be20cadd-f347-4655-85e4-b36268912b9c button.colab-df-convert');\n",
              "        buttonEl.style.display =\n",
              "          google.colab.kernel.accessAllowed ? 'block' : 'none';\n",
              "\n",
              "        async function convertToInteractive(key) {\n",
              "          const element = document.querySelector('#df-be20cadd-f347-4655-85e4-b36268912b9c');\n",
              "          const dataTable =\n",
              "            await google.colab.kernel.invokeFunction('convertToInteractive',\n",
              "                                                     [key], {});\n",
              "          if (!dataTable) return;\n",
              "\n",
              "          const docLinkHtml = 'Like what you see? Visit the ' +\n",
              "            '<a target=\"_blank\" href=https://colab.research.google.com/notebooks/data_table.ipynb>data table notebook</a>'\n",
              "            + ' to learn more about interactive tables.';\n",
              "          element.innerHTML = '';\n",
              "          dataTable['output_type'] = 'display_data';\n",
              "          await google.colab.output.renderOutput(dataTable, element);\n",
              "          const docLink = document.createElement('div');\n",
              "          docLink.innerHTML = docLinkHtml;\n",
              "          element.appendChild(docLink);\n",
              "        }\n",
              "      </script>\n",
              "    </div>\n",
              "  </div>\n",
              "  "
            ]
          },
          "metadata": {},
          "execution_count": 12
        }
      ]
    },
    {
      "cell_type": "code",
      "source": [
        "plt.figure(figsize=(15, 5))\n",
        "\n",
        "# Specify first subplot\n",
        "plt.subplot(121)\n",
        "sns.countplot(data=df, x=\"Pclass\")\n",
        "\n",
        "# 2nd subplot will have both countplot and lineplot\n",
        "# Because both are specified under subplot 122\n",
        "plt.subplot(122)\n",
        "sns.countplot(data=df, x=\"Survived\")\n",
        "sns.lineplot(data=mean_fare_by_survived, x=\"Survived\", y=\"Fare\", color=\"red\")\n",
        "\n",
        "plt.show()"
      ],
      "metadata": {
        "colab": {
          "base_uri": "https://localhost:8080/",
          "height": 334
        },
        "id": "KS_PevBK97R0",
        "outputId": "a93aa99a-0602-4311-a7b6-ef83059b0799"
      },
      "execution_count": null,
      "outputs": [
        {
          "output_type": "display_data",
          "data": {
            "text/plain": [
              "<Figure size 1080x360 with 2 Axes>"
            ],
            "image/png": "[encoded data removed]"
          },
          "metadata": {
            "needs_background": "light"
          }
        }
      ]
    },
    {
      "cell_type": "markdown",
      "source": [
        "In case we have multiple charts on one subplot, it's important to split the metrics into dual axis. For that task, we can use\n",
        "- `plt.twinx()` to create dual vertical axis.\n",
        "- `plt.twiny()` to create dual horizontal axis."
      ],
      "metadata": {
        "id": "vCwxVcGh_gzK"
      }
    },
    {
      "cell_type": "code",
      "source": [
        "plt.figure(figsize=(15, 5))\n",
        "plt.subplot(121)\n",
        "sns.countplot(data=df, x=\"Pclass\")\n",
        "\n",
        "# Simply place the twinx between two charts.\n",
        "# Notice how the line changes because the scale of axis is changed.\n",
        "plt.subplot(122)\n",
        "sns.countplot(data=df, x=\"Survived\")\n",
        "plt.twinx()\n",
        "sns.lineplot(data=mean_fare_by_survived, x=\"Survived\", y=\"Fare\", color=\"red\")\n",
        "\n",
        "plt.show()"
      ],
      "metadata": {
        "colab": {
          "base_uri": "https://localhost:8080/",
          "height": 334
        },
        "id": "7dVo2nk-_gCi",
        "outputId": "b0cca717-480e-4490-eff8-466f942456ec"
      },
      "execution_count": null,
      "outputs": [
        {
          "output_type": "display_data",
          "data": {
            "text/plain": [
              "<Figure size 1080x360 with 3 Axes>"
            ],
            "image/png": "[encoded data removed]"
          },
          "metadata": {
            "needs_background": "light"
          }
        }
      ]
    },
    {
      "cell_type": "markdown",
      "source": [
        "While dealing with multiple subplots, we need different titles to distinguish them. Users can choose between:\n",
        "\n",
        "- `plt.suptitle`: To name the entire figure\n",
        "- `plt.title`: To name a subplot"
      ],
      "metadata": {
        "id": "rLtTHW4O4EwQ"
      }
    },
    {
      "cell_type": "code",
      "source": [
        "plt.figure(figsize=(15, 5))\n",
        "plt.suptitle(\"Summary of passengers on Titanic ship\")\n",
        "\n",
        "plt.subplot(121)\n",
        "sns.countplot(data=df, x=\"Pclass\")\n",
        "plt.title(\"Number of Customers by Pclass\")\n",
        "\n",
        "plt.subplot(122)\n",
        "sns.countplot(data=df, x=\"Survived\")\n",
        "plt.title(\"Number of Customers by Survival Status\")\n",
        "\n",
        "plt.show()"
      ],
      "metadata": {
        "colab": {
          "base_uri": "https://localhost:8080/",
          "height": 370
        },
        "id": "zgrXBr_V2BPE",
        "outputId": "d52d6adc-0680-42b2-8c75-fed94c0c36a5"
      },
      "execution_count": null,
      "outputs": [
        {
          "output_type": "display_data",
          "data": {
            "text/plain": [
              "<Figure size 1080x360 with 2 Axes>"
            ],
            "image/png": "[encoded data removed]"
          },
          "metadata": {
            "needs_background": "light"
          }
        }
      ]
    },
    {
      "cell_type": "markdown",
      "source": [
        "Now, we are able to create a visualization with multiple subplots. A quick summary:\n",
        "\n",
        "👉 To create figure and subplots:\n",
        "\n",
        "```plt.figure()``` ▸ https://matplotlib.org/stable/api/_as_gen/matplotlib.pyplot.figure.html\n",
        "\n",
        "```plt.subplot()``` ▸ https://matplotlib.org/stable/api/_as_gen/matplotlib.pyplot.subplot.html\n",
        "\n",
        "👉 To create dual axis:\n",
        "\n",
        "`plt.twinx()`\n",
        "\n",
        "`plt.twiny()`\n",
        "\n",
        "👉 To add title:\n",
        "\n",
        "```plt.suptitle()``` ▸ https://matplotlib.org/stable/api/_as_gen/matplotlib.pyplot.suptitle.html\n",
        "\n",
        "```plt.title()``` ▸ https://matplotlib.org/3.1.1/api/_as_gen/matplotlib.pyplot.title.html"
      ],
      "metadata": {
        "id": "k8ZPPuqRAydN"
      }
    },
    {
      "cell_type": "markdown",
      "source": [
        "## 2. Customize a Chart"
      ],
      "metadata": {
        "id": "ehuy1aDNBo-3"
      }
    },
    {
      "cell_type": "markdown",
      "source": [
        "<img src=\"https://matplotlib.org/_images/anatomy.png\" alt=\"drawing\" width=\"600\">"
      ],
      "metadata": {
        "id": "282Go_nVZfEA"
      }
    },
    {
      "cell_type": "code",
      "source": [
        "# Visualizing average fare by Pclass\n",
        "\n",
        "# Calculate the plot data\n",
        "mean_fare_by_pclass = df.groupby(\"Pclass\")[\"Fare\"].mean().reset_index()\n",
        "\n",
        "# Visualize\n",
        "plt.figure(figsize=(15, 5))\n",
        "sns.barplot(data=mean_fare_by_pclass, x=\"Pclass\", y=\"Fare\")\n",
        "\n",
        "# Customize\n",
        "plt.title(\"Average Fare by Class\")\n",
        "\n",
        "plt.show()"
      ],
      "metadata": {
        "colab": {
          "base_uri": "https://localhost:8080/",
          "height": 350
        },
        "id": "W6oB6AMcWBGx",
        "outputId": "ec04a01e-fba6-417b-fc07-10659a9b6101"
      },
      "execution_count": null,
      "outputs": [
        {
          "output_type": "display_data",
          "data": {
            "text/plain": [
              "<Figure size 1080x360 with 1 Axes>"
            ],
            "image/png": "[encoded data removed]"
          },
          "metadata": {
            "needs_background": "light"
          }
        }
      ]
    },
    {
      "cell_type": "code",
      "source": [
        "# Customize the chart\n",
        "plt.figure(figsize=(15, 5))\n",
        "sns.barplot(data=mean_fare_by_pclass, x=\"Pclass\", y=\"Fare\")\n",
        "\n",
        "plt.title(\"Average Fare by Class\")\n",
        "\n",
        "# ------ Change label of x-axis ------\n",
        "plt.xlabel(\"Titanic Class\")\n",
        "\n",
        "# ------ Change ticks of x-axis ------\n",
        "# ticks: specify index of ticks (count from 0)\n",
        "# labels: new labels for the ticks\n",
        "plt.xticks(ticks=[0, 1, 2], labels=[\"Class 1\", \"Class 2\", \"Class 3\"])\n",
        "\n",
        "# ------ Change limit of y-axis ------\n",
        "# The new y-axis ranges from 0 to 60\n",
        "plt.ylim(0, 60)\n",
        "\n",
        "plt.show()"
      ],
      "metadata": {
        "colab": {
          "base_uri": "https://localhost:8080/",
          "height": 350
        },
        "id": "ehMnId24aYBu",
        "outputId": "860500f1-81d2-4704-8588-d721805718b5"
      },
      "execution_count": null,
      "outputs": [
        {
          "output_type": "display_data",
          "data": {
            "text/plain": [
              "<Figure size 1080x360 with 1 Axes>"
            ],
            "image/png": "[encoded data removed]"
          },
          "metadata": {
            "needs_background": "light"
          }
        }
      ]
    },
    {
      "cell_type": "code",
      "source": [
        "list(range(0, 85, 5))"
      ],
      "metadata": {
        "colab": {
          "base_uri": "https://localhost:8080/"
        },
        "id": "zwVMIQTMz3Ik",
        "outputId": "6e624cd8-3548-4fa3-fe60-86808d3538cc"
      },
      "execution_count": null,
      "outputs": [
        {
          "output_type": "execute_result",
          "data": {
            "text/plain": [
              "[0, 5, 10, 15, 20, 25, 30, 35, 40, 45, 50, 55, 60, 65, 70, 75, 80]"
            ]
          },
          "metadata": {},
          "execution_count": 23
        }
      ]
    },
    {
      "cell_type": "code",
      "source": [
        "# Example 2: Adjust labels for continuous axis\n",
        "\n",
        "plt.figure(figsize=(15, 5))\n",
        "sns.histplot(data=df, x=\"Age\")\n",
        "plt.xticks(ticks=list(range(0, 85, 5)))\n",
        "\n",
        "plt.show()"
      ],
      "metadata": {
        "colab": {
          "base_uri": "https://localhost:8080/",
          "height": 334
        },
        "id": "_oLw354NdS4e",
        "outputId": "dca00b9d-92c8-4361-db5c-18d8fcef883b"
      },
      "execution_count": null,
      "outputs": [
        {
          "output_type": "display_data",
          "data": {
            "text/plain": [
              "<Figure size 1080x360 with 1 Axes>"
            ],
            "image/png": "[encoded data removed]"
          },
          "metadata": {
            "needs_background": "light"
          }
        }
      ]
    },
    {
      "cell_type": "markdown",
      "source": [
        "## 3. Add Text"
      ],
      "metadata": {
        "id": "vgoVy2cz8ixC"
      }
    },
    {
      "cell_type": "markdown",
      "source": [
        "Oftentimes, we want to introduce text to chart as tooltips to explain the chart better. Matplotlib has the `plt.text` syntax that offers a very flexible way to edit the text."
      ],
      "metadata": {
        "id": "UXeup1CS8ksn"
      }
    },
    {
      "cell_type": "markdown",
      "metadata": {
        "id": "74W3sV7Tno1s"
      },
      "source": [
        "Some important parameters:\n",
        "\n",
        "- `x`: x location\n",
        "- `y`: y location\n",
        "- `s`: message in string\n",
        "- `horizontalalignment` or `ha`: \"center\", \"right\", or \"left\"\n",
        "- `verticalalignment` or `va`: 'center', 'top', 'bottom', 'baseline', 'center_baseline'\n",
        "- Furthermore, any other formatting parameter can be passed in as a dictionary. Please refer in the link ▸ [```plt.text( )```](https://matplotlib.org/stable/api/_as_gen/matplotlib.pyplot.text.html)"
      ]
    },
    {
      "cell_type": "code",
      "source": [
        "mean_fare_by_pclass = df.groupby(\"Pclass\")[\"Fare\"].mean().reset_index()\n",
        "\n",
        "plt.figure(figsize=(15, 5))\n",
        "sns.barplot(data=mean_fare_by_pclass, x=\"Pclass\", y=\"Fare\")\n",
        "plt.title(\"Average Fare by Class\")\n",
        "\n",
        "\n",
        "# ----- Add Text -----\n",
        "plt.text(\n",
        "    x=1,\n",
        "    y=30,\n",
        "    s=\"This is class 2\",\n",
        "    ha=\"center\",\n",
        "    fontsize=\"large\",\n",
        "    fontweight=\"bold\",\n",
        "    color=\"red\",\n",
        ")\n",
        "\n",
        "plt.show()"
      ],
      "metadata": {
        "colab": {
          "base_uri": "https://localhost:8080/",
          "height": 350
        },
        "id": "KIqPCu2w9uJq",
        "outputId": "e50205aa-e71d-4049-b464-e1c60d18bd29"
      },
      "execution_count": null,
      "outputs": [
        {
          "output_type": "display_data",
          "data": {
            "text/plain": [
              "<Figure size 1080x360 with 1 Axes>"
            ],
            "image/png": "[encoded data removed]"
          },
          "metadata": {
            "needs_background": "light"
          }
        }
      ]
    },
    {
      "cell_type": "markdown",
      "source": [
        "🙋🏻‍♂️ **YOUR TURN:** Find a way to put number labels on top of each bar."
      ],
      "metadata": {
        "id": "uMGOQrD__Mo_"
      }
    },
    {
      "cell_type": "code",
      "source": [
        "mean_fare_by_pclass"
      ],
      "metadata": {
        "colab": {
          "base_uri": "https://localhost:8080/",
          "height": 144
        },
        "id": "-H78mL22_nRo",
        "outputId": "70a51aeb-ff9b-4709-d219-cead509d560b"
      },
      "execution_count": null,
      "outputs": [
        {
          "output_type": "execute_result",
          "data": {
            "text/html": [
              "\n",
              "  <div id=\"df-c19ee43b-7b33-4938-aedb-a089bc445f20\">\n",
              "    <div class=\"colab-df-container\">\n",
              "      <div>\n",
              "<style scoped>\n",
              "    .dataframe tbody tr th:only-of-type {\n",
              "        vertical-align: middle;\n",
              "    }\n",
              "\n",
              "    .dataframe tbody tr th {\n",
              "        vertical-align: top;\n",
              "    }\n",
              "\n",
              "    .dataframe thead th {\n",
              "        text-align: right;\n",
              "    }\n",
              "</style>\n",
              "<table border=\"1\" class=\"dataframe\">\n",
              "  <thead>\n",
              "    <tr style=\"text-align: right;\">\n",
              "      <th></th>\n",
              "      <th>Pclass</th>\n",
              "      <th>Fare</th>\n",
              "    </tr>\n",
              "  </thead>\n",
              "  <tbody>\n",
              "    <tr>\n",
              "      <th>0</th>\n",
              "      <td>1</td>\n",
              "      <td>84.154687</td>\n",
              "    </tr>\n",
              "    <tr>\n",
              "      <th>1</th>\n",
              "      <td>2</td>\n",
              "      <td>20.662183</td>\n",
              "    </tr>\n",
              "    <tr>\n",
              "      <th>2</th>\n",
              "      <td>3</td>\n",
              "      <td>13.675550</td>\n",
              "    </tr>\n",
              "  </tbody>\n",
              "</table>\n",
              "</div>\n",
              "      <button class=\"colab-df-convert\" onclick=\"convertToInteractive('df-c19ee43b-7b33-4938-aedb-a089bc445f20')\"\n",
              "              title=\"Convert this dataframe to an interactive table.\"\n",
              "              style=\"display:none;\">\n",
              "        \n",
              "  <svg xmlns=\"http://www.w3.org/2000/svg\" height=\"24px\"viewBox=\"0 0 24 24\"\n",
              "       width=\"24px\">\n",
              "    <path d=\"M0 0h24v24H0V0z\" fill=\"none\"/>\n",
              "    <path d=\"M18.56 5.44l.94 2.06.94-2.06 2.06-.94-2.06-.94-.94-2.06-.94 2.06-2.06.94zm-11 1L8.5 8.5l.94-2.06 2.06-.94-2.06-.94L8.5 2.5l-.94 2.06-2.06.94zm10 10l.94 2.06.94-2.06 2.06-.94-2.06-.94-.94-2.06-.94 2.06-2.06.94z\"/><path d=\"M17.41 7.96l-1.37-1.37c-.4-.4-.92-.59-1.43-.59-.52 0-1.04.2-1.43.59L10.3 9.45l-7.72 7.72c-.78.78-.78 2.05 0 2.83L4 21.41c.39.39.9.59 1.41.59.51 0 1.02-.2 1.41-.59l7.78-7.78 2.81-2.81c.8-.78.8-2.07 0-2.86zM5.41 20L4 18.59l7.72-7.72 1.47 1.35L5.41 20z\"/>\n",
              "  </svg>\n",
              "      </button>\n",
              "      \n",
              "  <style>\n",
              "    .colab-df-container {\n",
              "      display:flex;\n",
              "      flex-wrap:wrap;\n",
              "      gap: 12px;\n",
              "    }\n",
              "\n",
              "    .colab-df-convert {\n",
              "      background-color: #E8F0FE;\n",
              "      border: none;\n",
              "      border-radius: 50%;\n",
              "      cursor: pointer;\n",
              "      display: none;\n",
              "      fill: #1967D2;\n",
              "      height: 32px;\n",
              "      padding: 0 0 0 0;\n",
              "      width: 32px;\n",
              "    }\n",
              "\n",
              "    .colab-df-convert:hover {\n",
              "      background-color: #E2EBFA;\n",
              "      box-shadow: 0px 1px 2px rgba(60, 64, 67, 0.3), 0px 1px 3px 1px rgba(60, 64, 67, 0.15);\n",
              "      fill: #174EA6;\n",
              "    }\n",
              "\n",
              "    [theme=dark] .colab-df-convert {\n",
              "      background-color: #3B4455;\n",
              "      fill: #D2E3FC;\n",
              "    }\n",
              "\n",
              "    [theme=dark] .colab-df-convert:hover {\n",
              "      background-color: #434B5C;\n",
              "      box-shadow: 0px 1px 3px 1px rgba(0, 0, 0, 0.15);\n",
              "      filter: drop-shadow(0px 1px 2px rgba(0, 0, 0, 0.3));\n",
              "      fill: #FFFFFF;\n",
              "    }\n",
              "  </style>\n",
              "\n",
              "      <script>\n",
              "        const buttonEl =\n",
              "          document.querySelector('#df-c19ee43b-7b33-4938-aedb-a089bc445f20 button.colab-df-convert');\n",
              "        buttonEl.style.display =\n",
              "          google.colab.kernel.accessAllowed ? 'block' : 'none';\n",
              "\n",
              "        async function convertToInteractive(key) {\n",
              "          const element = document.querySelector('#df-c19ee43b-7b33-4938-aedb-a089bc445f20');\n",
              "          const dataTable =\n",
              "            await google.colab.kernel.invokeFunction('convertToInteractive',\n",
              "                                                     [key], {});\n",
              "          if (!dataTable) return;\n",
              "\n",
              "          const docLinkHtml = 'Like what you see? Visit the ' +\n",
              "            '<a target=\"_blank\" href=https://colab.research.google.com/notebooks/data_table.ipynb>data table notebook</a>'\n",
              "            + ' to learn more about interactive tables.';\n",
              "          element.innerHTML = '';\n",
              "          dataTable['output_type'] = 'display_data';\n",
              "          await google.colab.output.renderOutput(dataTable, element);\n",
              "          const docLink = document.createElement('div');\n",
              "          docLink.innerHTML = docLinkHtml;\n",
              "          element.appendChild(docLink);\n",
              "        }\n",
              "      </script>\n",
              "    </div>\n",
              "  </div>\n",
              "  "
            ],
            "text/plain": [
              "   Pclass       Fare\n",
              "0       1  84.154687\n",
              "1       2  20.662183\n",
              "2       3  13.675550"
            ]
          },
          "metadata": {},
          "execution_count": 28
        }
      ]
    },
    {
      "cell_type": "code",
      "source": [
        "# YOUR CODE HERE"
      ],
      "metadata": {
        "colab": {
          "base_uri": "https://localhost:8080/",
          "height": 350
        },
        "id": "u6MZlz44_JiZ",
        "outputId": "2afe2d6f-7a92-4ec4-c759-9b9aeb9360f0"
      },
      "execution_count": null,
      "outputs": [
        {
          "output_type": "display_data",
          "data": {
            "image/png": "[encoded data removed]",
            "text/plain": [
              "<Figure size 1080x360 with 1 Axes>"
            ]
          },
          "metadata": {
            "needs_background": "light"
          }
        }
      ]
    },
    {
      "cell_type": "code",
      "source": [
        "# @title Solution\n",
        "\n",
        "plt.figure(figsize=(15, 5))\n",
        "sns.barplot(data=mean_fare_by_pclass, x=\"Pclass\", y=\"Fare\")\n",
        "plt.title(\"Average Fare by Class\")\n",
        "\n",
        "for i in range(mean_fare_by_pclass.shape[0]):\n",
        "    plt.text(\n",
        "        x=i,\n",
        "        y=mean_fare_by_pclass.loc[i, \"Fare\"] + 5,\n",
        "        s=round(mean_fare_by_pclass.loc[i, \"Fare\"], 2),\n",
        "        ha=\"center\",\n",
        "        fontsize=\"large\",\n",
        "    )\n",
        "\n",
        "plt.ylim(0, 100)\n",
        "plt.show()"
      ],
      "metadata": {
        "cellView": "form",
        "id": "FgMct4aCAPRg"
      },
      "execution_count": null,
      "outputs": []
    },
    {
      "cell_type": "markdown",
      "source": [
        "**✲ Extra**: We can also add a **reference line** using `plt.axhline` or `plt.axvline` to highlight any threshold or comparision if any."
      ],
      "metadata": {
        "id": "IEB_v0BQ8RQ4"
      }
    },
    {
      "cell_type": "code",
      "source": [
        "plt.figure(figsize=(15, 5))\n",
        "sns.barplot(data=mean_fare_by_pclass, x=\"Pclass\", y=\"Fare\")\n",
        "plt.title(\"Average Fare by Class\")\n",
        "plt.axhline(y=mean_fare_by_pclass[\"Fare\"].mean(), color=\"red\", linestyle=\"--\")\n",
        "plt.text(x=2.3, y=mean_fare_by_pclass[\"Fare\"].mean() + 3, s=\"Average\")\n",
        "plt.show()"
      ],
      "metadata": {
        "colab": {
          "base_uri": "https://localhost:8080/",
          "height": 350
        },
        "id": "vKtJ31JjjbpD",
        "outputId": "b6c38f1d-836f-456c-aa36-92f211d2f03c"
      },
      "execution_count": null,
      "outputs": [
        {
          "output_type": "display_data",
          "data": {
            "image/png": "[encoded data removed]",
            "text/plain": [
              "<Figure size 1080x360 with 1 Axes>"
            ]
          },
          "metadata": {
            "needs_background": "light"
          }
        }
      ]
    },
    {
      "cell_type": "markdown",
      "source": [
        "## 4. *Extra* - Styling and Export"
      ],
      "metadata": {
        "id": "SKniSpjiCjqg"
      }
    },
    {
      "cell_type": "markdown",
      "source": [
        "Matplotlib also offers a wide range of visualization color palettes to improve the aesthetic of your visualization. You can refer to this link for available themes: https://matplotlib.org/stable/gallery/style_sheets/style_sheets_reference.html"
      ],
      "metadata": {
        "id": "n2MM7aAdCmOJ"
      }
    },
    {
      "cell_type": "code",
      "source": [
        "# Set up the theme\n",
        "plt.style.use(\"Solarize_Light2\")\n",
        "\n",
        "# Visualize\n",
        "plt.figure(figsize=(15, 5))\n",
        "sns.barplot(data=mean_fare_by_pclass, x=\"Pclass\", y=\"Fare\")\n",
        "plt.title(\"Average Fare by Class\")\n",
        "plt.show()"
      ],
      "metadata": {
        "colab": {
          "base_uri": "https://localhost:8080/",
          "height": 354
        },
        "id": "8Hct4WkvAe8S",
        "outputId": "fb3f2bc1-cc5d-4113-c61d-69354e049f67"
      },
      "execution_count": null,
      "outputs": [
        {
          "output_type": "display_data",
          "data": {
            "image/png": "[encoded data removed]",
            "text/plain": [
              "<Figure size 1080x360 with 1 Axes>"
            ]
          },
          "metadata": {}
        }
      ]
    },
    {
      "cell_type": "markdown",
      "metadata": {
        "id": "jzoeN6OoeXUB"
      },
      "source": [
        "We can use the `figure.Figure.savefig()` in order to save the figure to disk. Note that there are several useful flags we'll show below:\n",
        "\n",
        "* `transparent=True` makes the background of the saved figure transparent if the format supports it.\n",
        "* `dpi=80` controls the resolution (dots per square inch) of the output.\n",
        "* `bbox_inches=\"tight\"` fits the bounds of the figure to our plot.\n",
        "\n",
        "Read more at: https://matplotlib.org/3.3.2/api/_as_gen/matplotlib.pyplot.savefig.html"
      ]
    },
    {
      "cell_type": "code",
      "metadata": {
        "id": "urVKadfOrMG3",
        "colab": {
          "base_uri": "https://localhost:8080/",
          "height": 354
        },
        "outputId": "95d39598-9eb3-439f-c938-a712f9eb21f2"
      },
      "source": [
        "# Visualize\n",
        "fig = plt.figure(figsize=(15, 5))\n",
        "sns.barplot(data=mean_fare_by_pclass, x=\"Pclass\", y=\"Fare\")\n",
        "plt.title(\"Average Fare by Class\")\n",
        "plt.show()"
      ],
      "execution_count": null,
      "outputs": [
        {
          "output_type": "display_data",
          "data": {
            "image/png": "[encoded data removed]",
            "text/plain": [
              "<Figure size 1080x360 with 1 Axes>"
            ]
          },
          "metadata": {}
        }
      ]
    },
    {
      "cell_type": "code",
      "metadata": {
        "id": "y1cIc3fbeTyO"
      },
      "source": [
        "# Save the figure\n",
        "\n",
        "fig.savefig(\"fare.png\", transparent=False, dpi=80, bbox_inches=\"tight\")"
      ],
      "execution_count": null,
      "outputs": []
    },
    {
      "cell_type": "markdown",
      "source": [
        "## SUMMARY"
      ],
      "metadata": {
        "id": "4bKmCMr8H-QA"
      }
    },
    {
      "cell_type": "markdown",
      "source": [
        "```python\n",
        "# --------- Import ---------\n",
        "import matplotlib.pyplot as plt\n",
        "\n",
        "# --------- Create figure and subplot ---------\n",
        "plt.figure(figsize=(10, 15))\n",
        "plt.subplot(121)\n",
        "\n",
        "# --------- Shared axis ---------\n",
        "plt.twinx()\n",
        "plt.twiny()\n",
        "\n",
        "# --------- Add title ---------\n",
        "plt.suptitle()\n",
        "plt.title()\n",
        "\n",
        "# --------- Format axis ---------\n",
        "plt.xlabel()\n",
        "plt.ylabel()\n",
        "\n",
        "plt.xticks()\n",
        "plt.yticks()\n",
        "\n",
        "plt.xlim()\n",
        "plt.ylim()\n",
        "\n",
        "# --------- Add text ---------\n",
        "plt.text()\n",
        "\n",
        "# --------- Add reference line ---------\n",
        "plt.axhline()\n",
        "plt.axvline()\n",
        "\n",
        "# --------- Change theme ---------\n",
        "plt.style.use()\n",
        "\n",
        "# --------- Export ---------\n",
        "fig = plt.figure()\n",
        "...\n",
        "fig.savefig('test.png')\n",
        "```"
      ],
      "metadata": {
        "id": "vxmjMZFhIAsz"
      }
    }
  ]
}