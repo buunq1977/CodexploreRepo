{
  "nbformat": 4,
  "nbformat_minor": 5,
  "metadata": {
    "colab": {
      "provenance": [],
      "collapsed_sections": [
        "ed40e70c",
        "pogHAJGEMjpt",
        "26b8881f",
        "2b0d1290",
        "5ccab8de",
        "07890c37",
        "d89750af",
        "8t9N5yVXQigN",
        "dc8900bb",
        "8634563e",
        "340b753b",
        "bea2cb4c",
        "0f742f20"
      ],
      "include_colab_link": true
    },
    "language_info": {
      "name": "python"
    },
    "kernelspec": {
      "name": "python3",
      "display_name": "Python 3"
    }
  },
  "cells": [
    {
      "cell_type": "markdown",
      "metadata": {
        "id": "view-in-github",
        "colab_type": "text"
      },
      "source": [
        "<a href=\"https://colab.research.google.com/github/buunq1977/CodexploreRepo/blob/main/M4.1.2b_%5BLab%5D_Seaborn.ipynb\" target=\"_parent\"><img src=\"https://colab.research.google.com/assets/colab-badge.svg\" alt=\"Open In Colab\"/></a>"
      ]
    },
    {
      "cell_type": "markdown",
      "metadata": {
        "id": "f1c247c5"
      },
      "source": [
        "![](https://i.imgur.com/0AUxkXt.png)"
      ],
      "id": "f1c247c5"
    },
    {
      "cell_type": "markdown",
      "metadata": {
        "id": "HCya3UsmMUjJ"
      },
      "source": [
        "# **Before you do anything, choose File --> Save a Copy to Drive**"
      ],
      "id": "HCya3UsmMUjJ"
    },
    {
      "cell_type": "code",
      "metadata": {
        "id": "18e4447a"
      },
      "source": [
        "# @title Before you start, please login with the same email you have registered for the course {display-mode: \"form\"}\n",
        "\n",
        "!pip install -q cspyclient\n",
        "import cspyclient as cs\n",
        "\n",
        "submission = cs.Submission.initialize_submission(\"62a0212a34b401001d67e92c\")\n",
        "\n",
        "submission.register_student()"
      ],
      "id": "18e4447a",
      "execution_count": null,
      "outputs": []
    },
    {
      "cell_type": "markdown",
      "metadata": {
        "id": "ed40e70c"
      },
      "source": [
        "##**Import data and libraries**\n",
        "\n",
        "In this Lab we will use a restaurant dataset.\n",
        "\n",
        "The dataset contains tips data from different customers females and males, smokers and non smokers, from days, dinner or lunch and from different table size."
      ],
      "id": "ed40e70c"
    },
    {
      "cell_type": "code",
      "metadata": {
        "id": "f7933802"
      },
      "source": [
        "import pandas as pd\n",
        "import seaborn as sns\n",
        "\n",
        "df = pd.read_csv(\"https://www.dropbox.com/s/ory0s3z89z3zkt4/restaurant.csv?dl=1\")"
      ],
      "id": "f7933802",
      "execution_count": null,
      "outputs": []
    },
    {
      "cell_type": "markdown",
      "metadata": {
        "id": "pogHAJGEMjpt"
      },
      "source": [
        "# 1. Univariate"
      ],
      "id": "pogHAJGEMjpt"
    },
    {
      "cell_type": "markdown",
      "metadata": {
        "id": "26b8881f"
      },
      "source": [
        "### Question 1 (MULTICHOICE_SINGLE - 10 pts)\n",
        "What is the distribution of total bill?\n",
        "- Draw a **histogram** of total bill and answer the question.\n",
        "\n"
      ],
      "id": "26b8881f"
    },
    {
      "cell_type": "code",
      "metadata": {
        "id": "17k9LotOM-e4"
      },
      "source": [
        "# YOUR CODE HERE\n",
        "sns.histplot()"
      ],
      "id": "17k9LotOM-e4",
      "execution_count": null,
      "outputs": []
    },
    {
      "cell_type": "markdown",
      "metadata": {
        "id": "hgbzEu_hM9tm"
      },
      "source": [
        "**Question:** Which kind of analysis and variable should be visualized using Histogram?\n",
        "\n",
        "- A. Univariate - Continuous\n",
        "\n",
        "- B. Univariate - Categorical\n",
        "\n",
        "- C. Bivariate - Continuous vs Continuos\n",
        "\n",
        "- D. Bivariate - Categorical vs Categorical"
      ],
      "id": "hgbzEu_hM9tm"
    },
    {
      "cell_type": "code",
      "metadata": {
        "cellView": "form",
        "id": "ac5245b9"
      },
      "source": [
        "# @title Run this to start question 1\n",
        "\n",
        "submission.generate_question(0, globals(), height=\"100px\")"
      ],
      "id": "ac5245b9",
      "execution_count": null,
      "outputs": []
    },
    {
      "cell_type": "markdown",
      "metadata": {
        "id": "2b0d1290"
      },
      "source": [
        "### Question 2 (MULTICHOICE_SINGLE - 10 pts)\n",
        "- Visualize the distribution of the **tip** with the help of a **boxplot**"
      ],
      "id": "2b0d1290"
    },
    {
      "cell_type": "code",
      "metadata": {
        "id": "t-2q0_UtNjxt"
      },
      "source": [
        "# YOUR CODE HERE"
      ],
      "id": "t-2q0_UtNjxt",
      "execution_count": null,
      "outputs": []
    },
    {
      "cell_type": "markdown",
      "metadata": {
        "id": "9HZC_62ANllL"
      },
      "source": [
        "**Question:** What value does the **line** inside the box in boxplot represent?\n",
        "\n",
        "- A. Mean\n",
        "\n",
        "- B. Mode\n",
        "\n",
        "- C. Median\n",
        "\n",
        "- D. None of the above"
      ],
      "id": "9HZC_62ANllL"
    },
    {
      "cell_type": "code",
      "metadata": {
        "cellView": "form",
        "id": "467e5dc6"
      },
      "source": [
        "# @title Run this to start question 2\n",
        "\n",
        "submission.generate_question(1, globals(), height=\"100px\")"
      ],
      "id": "467e5dc6",
      "execution_count": null,
      "outputs": []
    },
    {
      "cell_type": "markdown",
      "metadata": {
        "id": "5ccab8de"
      },
      "source": [
        "### Question 3 (MULTICHOICE_SINGLE - 10 pts)  \n",
        "Female or Male: Which one pays **more often**?\n",
        "- Draw a **countplot** and answer the question."
      ],
      "id": "5ccab8de"
    },
    {
      "cell_type": "code",
      "metadata": {
        "id": "wJP7qxhLOONq"
      },
      "source": [
        "# YOUR CODE HERE"
      ],
      "id": "wJP7qxhLOONq",
      "execution_count": null,
      "outputs": []
    },
    {
      "cell_type": "markdown",
      "metadata": {
        "id": "FL5bSxgnONYT"
      },
      "source": [
        "**Question:** Both are used for visualizing one variable (univariate). But, what is the **difference** between a Histogram and a Countplot?\n",
        "\n",
        "- A. Countplot is used for categorical column, not continuous like Histogram.\n",
        "\n",
        "- B. Countplot shows the relationship between 2 variables.\n",
        "\n",
        "- C. Countplot provides the option to change color.\n",
        "\n",
        "- D. Countplot shows the statistics of the variable."
      ],
      "id": "FL5bSxgnONYT"
    },
    {
      "cell_type": "code",
      "metadata": {
        "cellView": "form",
        "id": "a46690a4"
      },
      "source": [
        "# @title Run this to start question 3\n",
        "\n",
        "submission.generate_question(2, globals(), height=\"100px\")"
      ],
      "id": "a46690a4",
      "execution_count": null,
      "outputs": []
    },
    {
      "cell_type": "markdown",
      "metadata": {
        "id": "07890c37"
      },
      "source": [
        "### Question 4 (MULTICHOICE_SINGLE - 10 pts)\n",
        "Among the week, which day has more **number of bills**?\n",
        "- Visualize with a **countplot**."
      ],
      "id": "07890c37"
    },
    {
      "cell_type": "code",
      "source": [
        "# YOUR CODE HERE"
      ],
      "metadata": {
        "id": "PIussu_B6zNW"
      },
      "id": "PIussu_B6zNW",
      "execution_count": null,
      "outputs": []
    },
    {
      "cell_type": "markdown",
      "metadata": {
        "id": "4YgyKvbBPtSz"
      },
      "source": [
        "**Question**: Which day has most **number of bills**\n",
        "\n",
        "- A. Thur\n",
        "- B. Fri\n",
        "- C. Sat\n",
        "- D. Sun"
      ],
      "id": "4YgyKvbBPtSz"
    },
    {
      "cell_type": "code",
      "metadata": {
        "cellView": "form",
        "id": "ba2ce426"
      },
      "source": [
        "# @title Run this to start question 4\n",
        "\n",
        "submission.generate_question(3, globals(), height=\"100px\")"
      ],
      "id": "ba2ce426",
      "execution_count": null,
      "outputs": []
    },
    {
      "cell_type": "markdown",
      "metadata": {
        "id": "d89750af"
      },
      "source": [
        "### Question 5 (MULTICHOICE_SINGLE - 10 pts)\n",
        "Smoke or Non-smoke, which type of seat is more in demand?\n",
        "- Visualize with a **countplot**."
      ],
      "id": "d89750af"
    },
    {
      "cell_type": "code",
      "source": [
        "# YOUR CODE HERE"
      ],
      "metadata": {
        "id": "LK-49VcB614x"
      },
      "id": "LK-49VcB614x",
      "execution_count": null,
      "outputs": []
    },
    {
      "cell_type": "markdown",
      "metadata": {
        "id": "2CH6QrklQQ6g"
      },
      "source": [
        "**Question**: Which type of seat is more in demand ? (Interm of number)\n",
        "- A. Non-Smoker\n",
        "- B. Smoker"
      ],
      "id": "2CH6QrklQQ6g"
    },
    {
      "cell_type": "code",
      "metadata": {
        "cellView": "form",
        "id": "eea07bb9"
      },
      "source": [
        "# @title Run this to start question 5\n",
        "\n",
        "submission.generate_question(4, globals(), height=\"100px\")"
      ],
      "id": "eea07bb9",
      "execution_count": null,
      "outputs": []
    },
    {
      "cell_type": "markdown",
      "metadata": {
        "id": "8t9N5yVXQigN"
      },
      "source": [
        "# 2. Multi-variate"
      ],
      "id": "8t9N5yVXQigN"
    },
    {
      "cell_type": "markdown",
      "metadata": {
        "id": "dc8900bb"
      },
      "source": [
        "### Question 6 (MULTICHOICE_SINGLE - 10 pts) Average total_bill by day"
      ],
      "id": "dc8900bb"
    },
    {
      "cell_type": "code",
      "metadata": {
        "id": "UKFpAlDNQsX-"
      },
      "source": [
        "# YOUR CODE HERE"
      ],
      "id": "UKFpAlDNQsX-",
      "execution_count": null,
      "outputs": []
    },
    {
      "cell_type": "markdown",
      "metadata": {
        "id": "YDcan-LEQ1Uy"
      },
      "source": [
        "**Question**: The above chart x_axis isn't sorted in the right order. How can we sort it?\n",
        "\n",
        "- A. Sort in the source dataframe\n",
        "\n",
        "- B. Sort in `seaborn` using `order`\n",
        "\n",
        "- C. None of the above\n",
        "\n",
        "- D. A & B are both correct."
      ],
      "id": "YDcan-LEQ1Uy"
    },
    {
      "cell_type": "code",
      "metadata": {
        "cellView": "form",
        "id": "8c6ccc47"
      },
      "source": [
        "# @title Run this to start question 6\n",
        "\n",
        "submission.generate_question(5, globals(), height=\"100px\")"
      ],
      "id": "8c6ccc47",
      "execution_count": null,
      "outputs": []
    },
    {
      "cell_type": "markdown",
      "metadata": {
        "id": "8634563e"
      },
      "source": [
        "### Question 7 (MULTICHOICE_SINGLE - 10 pts)\n",
        "**Exercise**: The above chart isn't sorted by day.\n",
        "- Find a way to **sort the bars** in two ways if you can."
      ],
      "id": "8634563e"
    },
    {
      "cell_type": "code",
      "metadata": {
        "id": "Lyw1h_VgRJFT"
      },
      "source": [
        "# YOUR CODE HERE\n",
        "# Option 1: Change in plot_data table"
      ],
      "id": "Lyw1h_VgRJFT",
      "execution_count": null,
      "outputs": []
    },
    {
      "cell_type": "code",
      "metadata": {
        "id": "MC02Jd5PRR49"
      },
      "source": [
        "# YOUR CODE HERE\n",
        "# Option 2: Change in seaborn syntax"
      ],
      "id": "MC02Jd5PRR49",
      "execution_count": null,
      "outputs": []
    },
    {
      "cell_type": "markdown",
      "metadata": {
        "id": "K1I9BLRRRjSk"
      },
      "source": [
        "🙋🏻‍♂️ **Tips**: ```order```"
      ],
      "id": "K1I9BLRRRjSk"
    },
    {
      "cell_type": "code",
      "metadata": {
        "colab": {
          "base_uri": "https://localhost:8080/",
          "height": 296
        },
        "cellView": "form",
        "id": "2WcHkWTbR1C3",
        "outputId": "988aee7b-a6de-49a2-fd20-668dfc090ec4"
      },
      "source": [
        "# @title **Output should look like this**"
      ],
      "id": "2WcHkWTbR1C3",
      "execution_count": null,
      "outputs": [
        {
          "output_type": "execute_result",
          "data": {
            "text/plain": [
              "<matplotlib.axes._subplots.AxesSubplot at 0x7f40e0246950>"
            ]
          },
          "metadata": {
            "tags": []
          },
          "execution_count": 16
        },
        {
          "output_type": "display_data",
          "data": {
            "image/png": "[encoded data removed]",
            "text/plain": [
              "<Figure size 432x288 with 1 Axes>"
            ]
          },
          "metadata": {
            "tags": [],
            "needs_background": "light"
          }
        }
      ]
    },
    {
      "cell_type": "code",
      "metadata": {
        "cellView": "form",
        "id": "e73f62f4"
      },
      "source": [
        "# @title Run this to start question 7\n",
        "\n",
        "submission.generate_question(6, globals(), height=\"100px\")"
      ],
      "id": "e73f62f4",
      "execution_count": null,
      "outputs": []
    },
    {
      "cell_type": "markdown",
      "metadata": {
        "id": "340b753b"
      },
      "source": [
        "### Question 8 (MULTICHOICE_SINGLE - 10 pts)\n",
        "- Visualize the **average of total_bill** by male and female in different days."
      ],
      "id": "340b753b"
    },
    {
      "cell_type": "code",
      "metadata": {
        "colab": {
          "base_uri": "https://localhost:8080/",
          "height": 279
        },
        "cellView": "form",
        "id": "7yXkiHspSSgp",
        "outputId": "f65c4d4b-6ddf-414a-c731-c6984ca86ef9"
      },
      "source": [
        "# @title **Exercise:** Try to make your chart look like this"
      ],
      "id": "7yXkiHspSSgp",
      "execution_count": null,
      "outputs": [
        {
          "output_type": "display_data",
          "data": {
            "image/png": "[encoded data removed]",
            "text/plain": [
              "<Figure size 432x288 with 1 Axes>"
            ]
          },
          "metadata": {
            "tags": [],
            "needs_background": "light"
          }
        }
      ]
    },
    {
      "cell_type": "code",
      "metadata": {
        "id": "cv4lt4vTSnNl"
      },
      "source": [
        "# YOUR CODE HERE"
      ],
      "id": "cv4lt4vTSnNl",
      "execution_count": null,
      "outputs": []
    },
    {
      "cell_type": "markdown",
      "metadata": {
        "id": "AjEpRANWScvk"
      },
      "source": [
        "🙋🏻‍♂️ **Tips**: ```hue```"
      ],
      "id": "AjEpRANWScvk"
    },
    {
      "cell_type": "code",
      "metadata": {
        "cellView": "form",
        "id": "c7c6c5a0"
      },
      "source": [
        "# @title Run this to start question 8\n",
        "\n",
        "submission.generate_question(7, globals(), height=\"100px\")"
      ],
      "id": "c7c6c5a0",
      "execution_count": null,
      "outputs": []
    },
    {
      "cell_type": "markdown",
      "metadata": {
        "id": "bea2cb4c"
      },
      "source": [
        "### Question 9 (MULTICHOICE_SINGLE - 10 pts)\n",
        "How is the number of bills in lunch and dinner change throughout the week?\n",
        "\n",
        "Draw a **group bar chart** to help answer the question ."
      ],
      "id": "bea2cb4c"
    },
    {
      "cell_type": "code",
      "metadata": {
        "id": "gbiHxLEFTxjW"
      },
      "source": [
        "# YOUR CODE HERE"
      ],
      "id": "gbiHxLEFTxjW",
      "execution_count": null,
      "outputs": []
    },
    {
      "cell_type": "markdown",
      "metadata": {
        "id": "ET5TQzmCS-7S"
      },
      "source": [
        "**Question**: When is the **peak** day for dinner and lunch ?\n",
        "\n",
        "- A. **Dinner** peaks on **Sat**, **Lunch** peaks on **Sun**\n",
        "- B. **Dinner** peaks on **Thur**, **Lunch** peaks on **Fri**\n",
        "- C. **Dinner** peaks on **Fri**, **Lunch** peaks on **Sat**\n",
        "- D. **Dinner** peaks on **Sat**, **Lunch** peaks on **Thur**"
      ],
      "id": "ET5TQzmCS-7S"
    },
    {
      "cell_type": "code",
      "metadata": {
        "cellView": "form",
        "id": "40ae826b"
      },
      "source": [
        "# @title Run this to start question 9\n",
        "\n",
        "submission.generate_question(8, globals(), height=\"100px\")"
      ],
      "id": "40ae826b",
      "execution_count": null,
      "outputs": []
    },
    {
      "cell_type": "markdown",
      "metadata": {
        "id": "0f742f20"
      },
      "source": [
        "### Question 10 (MULTICHOICE_SINGLE - 10 pts)\n",
        "Is it true that the bigger the bill is, the bigger the tip is? Visualize the relationship with an appropriate chart."
      ],
      "id": "0f742f20"
    },
    {
      "cell_type": "code",
      "metadata": {
        "id": "aIdOJEeyU2Rr"
      },
      "source": [
        "# YOUR CODE HERE"
      ],
      "id": "aIdOJEeyU2Rr",
      "execution_count": null,
      "outputs": []
    },
    {
      "cell_type": "markdown",
      "metadata": {
        "id": "maeXivnbUbh2"
      },
      "source": [
        "**Question**: Does bill and tips have a  **linear correlation** ?"
      ],
      "id": "maeXivnbUbh2"
    },
    {
      "cell_type": "code",
      "metadata": {
        "cellView": "form",
        "id": "a3d784f8"
      },
      "source": [
        "# @title Run this to start question 10\n",
        "\n",
        "submission.generate_question(9, globals(), height=\"100px\")"
      ],
      "id": "a3d784f8",
      "execution_count": null,
      "outputs": []
    }
  ]
}