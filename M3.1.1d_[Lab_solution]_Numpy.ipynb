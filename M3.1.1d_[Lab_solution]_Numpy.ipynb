{
  "nbformat": 4,
  "nbformat_minor": 5,
  "metadata": {
    "colab": {
      "provenance": [],
      "include_colab_link": true
    },
    "language_info": {
      "name": "python"
    },
    "kernelspec": {
      "name": "python3",
      "display_name": "Python 3"
    }
  },
  "cells": [
    {
      "cell_type": "markdown",
      "metadata": {
        "id": "view-in-github",
        "colab_type": "text"
      },
      "source": [
        "<a href=\"https://colab.research.google.com/github/buunq1977/CodexploreRepo/blob/main/M3.1.1d_%5BLab_solution%5D_Numpy.ipynb\" target=\"_parent\"><img src=\"https://colab.research.google.com/assets/colab-badge.svg\" alt=\"Open In Colab\"/></a>"
      ]
    },
    {
      "cell_type": "markdown",
      "metadata": {
        "id": "9292216f"
      },
      "source": [
        "![](https://i.imgur.com/0AUxkXt.png)"
      ],
      "id": "9292216f"
    },
    {
      "cell_type": "markdown",
      "metadata": {
        "id": "ELBU8LaSY59f"
      },
      "source": [
        "# Numpy Lab"
      ],
      "id": "ELBU8LaSY59f"
    },
    {
      "cell_type": "markdown",
      "metadata": {
        "id": "KeomK5M8YT_B"
      },
      "source": [
        "![alt text](https://i.morioh.com/b53d97587a.png)\n",
        "\n",
        "`numpy` is one of the most essential libraries for Machine Learning and Deep Learning as it allows us to work with large, multi-dimensional arrays and matrices, and perform high-level mathematical functions on these arrays."
      ],
      "id": "KeomK5M8YT_B"
    },
    {
      "cell_type": "code",
      "metadata": {
        "id": "af85671d"
      },
      "source": [
        "import numpy as np"
      ],
      "id": "af85671d",
      "execution_count": null,
      "outputs": []
    },
    {
      "cell_type": "markdown",
      "metadata": {
        "id": "XrfWvOgjU1qG"
      },
      "source": [
        "For each of this exercise, try different method to produce the output"
      ],
      "id": "XrfWvOgjU1qG"
    },
    {
      "cell_type": "markdown",
      "metadata": {
        "id": "_7BQogb1a-DP"
      },
      "source": [
        "## Describe a Matrix"
      ],
      "id": "_7BQogb1a-DP"
    },
    {
      "cell_type": "code",
      "metadata": {
        "id": "XzeBxN4z8WQf",
        "colab": {
          "base_uri": "https://localhost:8080/"
        },
        "outputId": "746911ec-2a7a-4eb3-fb93-c62db13a4e3e"
      },
      "source": [
        "a = np.array([np.ones(5), np.ones(5)])\n",
        "b = np.array([np.zeros(5), np.zeros(5)])\n",
        "c = np.array([np.zeros(5), np.zeros(5)])\n",
        "\n",
        "r = np.array([a, b, c])\n",
        "r"
      ],
      "execution_count": null,
      "outputs": [
        {
          "output_type": "execute_result",
          "data": {
            "text/plain": [
              "array([[[1., 1., 1., 1., 1.],\n",
              "        [1., 1., 1., 1., 1.]],\n",
              "\n",
              "       [[0., 0., 0., 0., 0.],\n",
              "        [0., 0., 0., 0., 0.]],\n",
              "\n",
              "       [[0., 0., 0., 0., 0.],\n",
              "        [0., 0., 0., 0., 0.]]])"
            ]
          },
          "metadata": {},
          "execution_count": 2
        }
      ],
      "id": "XzeBxN4z8WQf"
    },
    {
      "cell_type": "markdown",
      "metadata": {
        "id": "lrxCMG37JpdD"
      },
      "source": [
        "**Try to answer the question by yourself first, and double-check by code**"
      ],
      "id": "lrxCMG37JpdD"
    },
    {
      "cell_type": "markdown",
      "metadata": {
        "id": "8f9a4986"
      },
      "source": [
        "### Question 1\n",
        ">What is the **shape** of `r`?\n",
        "><ol type='A'>\n",
        "    <li><code>(5, 3, 2)</code></li>\n",
        "    <li><code>(3, 2, 5)</code></li>\n",
        "    <li><code>(2, 3, 5)</code></li>\n",
        "</ol>"
      ],
      "id": "8f9a4986"
    },
    {
      "cell_type": "code",
      "source": [
        "# YOUR ANSWER: B\n",
        "print(r.shape)"
      ],
      "metadata": {
        "id": "a-nShtCdgZqr",
        "colab": {
          "base_uri": "https://localhost:8080/"
        },
        "outputId": "2415fe56-8584-4787-c0f7-e9b7acc53190"
      },
      "id": "a-nShtCdgZqr",
      "execution_count": null,
      "outputs": [
        {
          "output_type": "stream",
          "name": "stdout",
          "text": [
            "(3, 2, 5)\n"
          ]
        }
      ]
    },
    {
      "cell_type": "markdown",
      "metadata": {
        "id": "c6de082f"
      },
      "source": [
        "### Question 2\n",
        ">What is the **dimension** of `r`?\n",
        "><ol type='A'>\n",
        "    <li>3</li>\n",
        "    <li>5</li>\n",
        "    <li>2</li>\n",
        "</ol>\n",
        "\n"
      ],
      "id": "c6de082f"
    },
    {
      "cell_type": "code",
      "source": [
        "# YOUR ANSWER: A\n",
        "print(r.ndim)"
      ],
      "metadata": {
        "id": "MMo-pHcDgha3",
        "colab": {
          "base_uri": "https://localhost:8080/"
        },
        "outputId": "93a9fc15-6983-449d-f3d6-6044bea6c9e2"
      },
      "execution_count": null,
      "outputs": [
        {
          "output_type": "stream",
          "name": "stdout",
          "text": [
            "3\n"
          ]
        }
      ],
      "id": "MMo-pHcDgha3"
    },
    {
      "cell_type": "markdown",
      "metadata": {
        "id": "f6433b97"
      },
      "source": [
        "### Question 3\n",
        ">How many elements does `r` have?\n",
        "><ol type='A'>\n",
        "    <li>15</li>\n",
        "    <li>20</li>\n",
        "    <li>30</li>\n",
        "</ol>\n"
      ],
      "id": "f6433b97"
    },
    {
      "cell_type": "code",
      "source": [
        "# YOUR ANSWER: C\n",
        "print(r.size)"
      ],
      "metadata": {
        "id": "WMkODl8MggE2",
        "colab": {
          "base_uri": "https://localhost:8080/"
        },
        "outputId": "1c62d02e-e08c-4f87-9d42-2c768d65984c"
      },
      "execution_count": null,
      "outputs": [
        {
          "output_type": "stream",
          "name": "stdout",
          "text": [
            "30\n"
          ]
        }
      ],
      "id": "WMkODl8MggE2"
    },
    {
      "cell_type": "markdown",
      "metadata": {
        "id": "gUZnClzG60lC"
      },
      "source": [
        "## Indexing"
      ],
      "id": "gUZnClzG60lC"
    },
    {
      "cell_type": "code",
      "metadata": {
        "id": "Xiqh1fGE130t"
      },
      "source": [
        "e = np.array([[1, 2, 3, 4], [5, 6, 7, 8], [9, 10, 11, 12]])"
      ],
      "id": "Xiqh1fGE130t",
      "execution_count": null,
      "outputs": []
    },
    {
      "cell_type": "code",
      "metadata": {
        "id": "-tFqXQl48vvI",
        "colab": {
          "base_uri": "https://localhost:8080/"
        },
        "outputId": "8dd0c557-91c4-4f13-a3bd-614d62de57c0"
      },
      "source": [
        "# Get the number 7 in array e using indexing\n",
        "# Expected result: 7\n",
        "\n",
        "# YOUR CODE HERE\n",
        "print(e[1, 2])"
      ],
      "id": "-tFqXQl48vvI",
      "execution_count": null,
      "outputs": [
        {
          "output_type": "stream",
          "name": "stdout",
          "text": [
            "7\n"
          ]
        }
      ]
    },
    {
      "cell_type": "code",
      "metadata": {
        "id": "OOMjOnkX9DTc",
        "colab": {
          "base_uri": "https://localhost:8080/"
        },
        "outputId": "f0596bff-ebce-4e25-8d5c-ffda609e87ec"
      },
      "source": [
        "# Get the the first row of array e\n",
        "# Expecte result: [1 2 3 4]\n",
        "\n",
        "# YOUR CODE HERE\n",
        "print(e[0])"
      ],
      "id": "OOMjOnkX9DTc",
      "execution_count": null,
      "outputs": [
        {
          "output_type": "stream",
          "name": "stdout",
          "text": [
            "[1 2 3 4]\n"
          ]
        }
      ]
    },
    {
      "cell_type": "markdown",
      "metadata": {
        "id": "a9258866"
      },
      "source": [
        "### Question 1\n",
        ">Given a 2D array `arr`, which of the following expressions returns the first column of `arr`?\n",
        "><ol type='A'>\n",
        "    <li><code>np.col(arr)[0]</code></li>\n",
        "    <li><code>arr[:,0]</code></li>\n",
        "    <li><code>arr[:][0]</code></li>\n",
        "    <li><code>arr[0,:]</code></li>\n",
        "</ol>"
      ],
      "id": "a9258866"
    },
    {
      "cell_type": "code",
      "source": [
        "# YOUR ANSWER: B\n",
        "arr = np.array([[0, 1, 2], [3, 4, 5]])\n",
        "print(arr[:, 0])"
      ],
      "metadata": {
        "id": "vD58WriSgqid",
        "colab": {
          "base_uri": "https://localhost:8080/"
        },
        "outputId": "05dbab06-7ff5-4f1f-d986-6f0d095562cd"
      },
      "execution_count": null,
      "outputs": [
        {
          "output_type": "stream",
          "name": "stdout",
          "text": [
            "[0 3]\n"
          ]
        }
      ],
      "id": "vD58WriSgqid"
    },
    {
      "cell_type": "markdown",
      "metadata": {
        "id": "2029ed72"
      },
      "source": [
        "### Question 2\n",
        ">Given a 2D array `arr`, which of the following expressions returns the first and last columns of `arr`?\n",
        "><ol type='A'>\n",
        "    <li><code>np.columns(arr)[0,-1]</code></li>\n",
        "    <li><code>arr[:,[0,1]]</code></li>\n",
        "    <li><code>arr[:,-1]</code></li>\n",
        "    <li><code>arr[:,[0,-1]]</code></li>\n",
        "</ol>"
      ],
      "id": "2029ed72"
    },
    {
      "cell_type": "code",
      "source": [
        "# YOUR ANSWER: D\n",
        "arr = np.array([[0, 1, 2], [3, 4, 5]])\n",
        "print(arr[:, [0, -1]])"
      ],
      "metadata": {
        "id": "c6M9LXu_gs7d",
        "colab": {
          "base_uri": "https://localhost:8080/"
        },
        "outputId": "1d5947a3-eb99-4d0b-9bfd-3b3711252ee6"
      },
      "execution_count": null,
      "outputs": [
        {
          "output_type": "stream",
          "name": "stdout",
          "text": [
            "[[0 2]\n",
            " [3 5]]\n"
          ]
        }
      ],
      "id": "c6M9LXu_gs7d"
    },
    {
      "cell_type": "markdown",
      "metadata": {
        "id": "a10c35be"
      },
      "source": [
        "### Question 3\n",
        ">Given a 2D array called `arr`, which of the following expressions returns the reverse of `arr`?\n",
        "><ol type='A'>\n",
        "    <li><code>arr[::-1, ::-1]</code></li>\n",
        "    <li><code>arr[:-1, :-1]</code></li>\n",
        "    <li><code>arr[0:-1:1, 0:-1:1]</code></li>\n",
        "    <li><code>arr[0::-1,0::-1]</code></li>\n",
        "</ol>\n",
        "\n",
        "*Example:*\n",
        "```python\n",
        ">>> arr = np.array([[1, 2, 3],\n",
        "                    [4, 5, 6]])\n",
        ">>> print(___) # Which expression gives the output below?\n",
        "[[6 5 4]\n",
        " [3 2 1]]\n",
        "```"
      ],
      "id": "a10c35be"
    },
    {
      "cell_type": "code",
      "source": [
        "# YOUR ANSWER: A\n",
        "arr = np.array([[1, 2, 3], [4, 5, 6]])\n",
        "print(arr[0:-1:1, 0:-1:1])"
      ],
      "metadata": {
        "id": "j3XTSh-mgtwM",
        "colab": {
          "base_uri": "https://localhost:8080/"
        },
        "outputId": "d4d45ea0-3c03-413b-e011-df1317c23c47"
      },
      "execution_count": null,
      "outputs": [
        {
          "output_type": "stream",
          "name": "stdout",
          "text": [
            "[[1 2]]\n"
          ]
        }
      ],
      "id": "j3XTSh-mgtwM"
    },
    {
      "cell_type": "markdown",
      "metadata": {
        "id": "1ueWN-xuP8Sl"
      },
      "source": [
        "\n",
        "## Reshape array"
      ],
      "id": "1ueWN-xuP8Sl"
    },
    {
      "cell_type": "code",
      "metadata": {
        "id": "uOGz4PhKP8Sn",
        "colab": {
          "base_uri": "https://localhost:8080/"
        },
        "outputId": "651143bf-42df-4253-d0fe-3d72ec9bf6d4"
      },
      "source": [
        "# Reshape 2x3 maxtrix b to an 1x6 row vector\n",
        "# Expected result: [[1 2 3 4 5 6]]\n",
        "d = np.array([[1, 2, 3], [4, 5, 6]])\n",
        "\n",
        "# YOUR CODE HERE\n",
        "print(d.reshape(1, 6))"
      ],
      "id": "uOGz4PhKP8Sn",
      "execution_count": null,
      "outputs": [
        {
          "output_type": "stream",
          "name": "stdout",
          "text": [
            "[[1 2 3 4 5 6]]\n"
          ]
        }
      ]
    },
    {
      "cell_type": "code",
      "metadata": {
        "id": "ua-_pcDgP8So",
        "colab": {
          "base_uri": "https://localhost:8080/"
        },
        "outputId": "2dfa7fa4-7380-4799-f0ea-c54e18c4d0f0"
      },
      "source": [
        "# Reshape this 1x6 matrix to an 6x1 matrix (in math they are called row vector and column vector)\n",
        "d = np.array([[1, 2, 3, 4, 5, 6]])\n",
        "# Expected result: [[1]\n",
        "#                   [2]\n",
        "#                   [3]\n",
        "#                   [4]\n",
        "#                   [5]\n",
        "#                   [6]]\n",
        "\n",
        "# YOUR CODE HERE\n",
        "print(d.reshape(6, 1))"
      ],
      "id": "ua-_pcDgP8So",
      "execution_count": null,
      "outputs": [
        {
          "output_type": "stream",
          "name": "stdout",
          "text": [
            "[[1]\n",
            " [2]\n",
            " [3]\n",
            " [4]\n",
            " [5]\n",
            " [6]]\n"
          ]
        }
      ]
    },
    {
      "cell_type": "markdown",
      "metadata": {
        "id": "5a0d4427"
      },
      "source": [
        "### Question 1\n",
        ">Write an ***expression*** which uses `.reshape(...)` to create a 3x3 matrix with the values ranging from 10 to 18.\n",
        "```python\n",
        ">>>> print(___.reshape(___)) # Your expression\n",
        "[[10 11 12]\n",
        " [13 14 15]\n",
        " [16 17 18]]\n",
        "```"
      ],
      "id": "5a0d4427"
    },
    {
      "cell_type": "code",
      "metadata": {
        "id": "Ifjh1tLiP8Sm",
        "colab": {
          "base_uri": "https://localhost:8080/"
        },
        "outputId": "5df4ea73-8650-4d73-a592-07a28985266a"
      },
      "source": [
        "# YOUR CODE HERE\n",
        "print(np.arange(10, 19).reshape(3, 3))"
      ],
      "id": "Ifjh1tLiP8Sm",
      "execution_count": null,
      "outputs": [
        {
          "output_type": "stream",
          "name": "stdout",
          "text": [
            "[[10 11 12]\n",
            " [13 14 15]\n",
            " [16 17 18]]\n"
          ]
        }
      ]
    },
    {
      "cell_type": "markdown",
      "metadata": {
        "id": "33770eb3"
      },
      "source": [
        "### Question 2\n",
        ">Given an array `arr` of any shape, which of the following expressions returns a flattened version of `arr`? Select all that apply.\n",
        "><ol type='A'>\n",
        "    <li><code>arr.reshape(1,-1)</code></li>\n",
        "    <li><code>arr.flatten()</code></li>\n",
        "    <li><code>arr.reshape(-1)</code></li>\n",
        "    <li><code>np.flatten(arr)</code></li>\n",
        "    <li><code>arr.reshape(-1,1)</code></li>\n",
        "</ol>\n",
        "\n",
        "*Example:*\n",
        "```python\n",
        ">>> arr = np.array([[1, 2],\n",
        "                    [3, 4],\n",
        "                    [5, 6]])\n",
        ">>> print(___) # Which expressions give the output below?\n",
        "[1 2 3 4 5 6]\n",
        "```\n",
        "\n",
        "**NOTE:** the result is a 1D array, not a 2D array with one row."
      ],
      "id": "33770eb3"
    },
    {
      "cell_type": "code",
      "source": [
        "# ANSWER: B and C\n",
        "# YOUR CODE HERE\n",
        "arr = np.array([[1, 2], [3, 4], [5, 6]])\n",
        "print(arr.flatten())\n",
        "print(arr.reshape(-1))"
      ],
      "metadata": {
        "id": "0WN3KP85g3zi",
        "colab": {
          "base_uri": "https://localhost:8080/"
        },
        "outputId": "c4a5a8b0-b2b6-4218-8781-47400aee8144"
      },
      "execution_count": null,
      "outputs": [
        {
          "output_type": "stream",
          "name": "stdout",
          "text": [
            "[1 2 3 4 5 6]\n",
            "[1 2 3 4 5 6]\n"
          ]
        }
      ],
      "id": "0WN3KP85g3zi"
    },
    {
      "cell_type": "markdown",
      "source": [
        "## Optional"
      ],
      "metadata": {
        "id": "ccuO2SXvf_gt"
      },
      "id": "ccuO2SXvf_gt"
    },
    {
      "cell_type": "markdown",
      "metadata": {
        "id": "z3eezuBNcVMs"
      },
      "source": [
        "### Boolean indexing"
      ],
      "id": "z3eezuBNcVMs"
    },
    {
      "cell_type": "code",
      "metadata": {
        "id": "Nau6nhY9cZKT",
        "colab": {
          "base_uri": "https://localhost:8080/"
        },
        "outputId": "cd52568b-05a5-4ec7-fb6e-2682da876e08"
      },
      "source": [
        "b = np.concatenate([np.arange(1, 8), np.arange(6, 0, -1)], axis=0)\n",
        "b"
      ],
      "id": "Nau6nhY9cZKT",
      "execution_count": null,
      "outputs": [
        {
          "output_type": "execute_result",
          "data": {
            "text/plain": [
              "array([1, 2, 3, 4, 5, 6, 7, 6, 5, 4, 3, 2, 1])"
            ]
          },
          "metadata": {},
          "execution_count": 26
        }
      ]
    },
    {
      "cell_type": "code",
      "metadata": {
        "id": "lHeqodb2c9o-",
        "colab": {
          "base_uri": "https://localhost:8080/"
        },
        "outputId": "a0df7f06-3045-495f-c1fd-09a0ca2452c5"
      },
      "source": [
        "# Get all the numbers that are more than 5.\n",
        "# Expected: array([6, 7, 6])\n",
        "# Your code here\n",
        "print(b[b > 5])"
      ],
      "id": "lHeqodb2c9o-",
      "execution_count": null,
      "outputs": [
        {
          "output_type": "stream",
          "name": "stdout",
          "text": [
            "[6 7 6]\n"
          ]
        }
      ]
    },
    {
      "cell_type": "code",
      "metadata": {
        "id": "Y83l2tZedItw",
        "colab": {
          "base_uri": "https://localhost:8080/"
        },
        "outputId": "1caf428e-b0c9-47c0-9c19-6694f7565a26"
      },
      "source": [
        "# Get all the numbers that are more than 2 but less than 6.\n",
        "# Expected: array([3, 4, 5, 5, 4, 3])\n",
        "# Your code here\n",
        "print(b[(b > 2) & (b < 6)])"
      ],
      "id": "Y83l2tZedItw",
      "execution_count": null,
      "outputs": [
        {
          "output_type": "stream",
          "name": "stdout",
          "text": [
            "[3 4 5 5 4 3]\n"
          ]
        }
      ]
    },
    {
      "cell_type": "markdown",
      "metadata": {
        "id": "94fa1113"
      },
      "source": [
        "#### Question 1\n",
        ">Write an ***expression*** that gives the same array as `b` EXCEPT all numbers greater than 5 is changed to 5 and other numbers stay the same. *(Hint: `np.where`)*\n",
        "\n",
        "*Example:*\n",
        "```python\n",
        ">>> b = np.array([1, 2, 3, 4, 5, 6, 7, 6, 5, 4, 3, 2, 1])\n",
        ">>> print(___) # Your expression\n",
        "[1 2 3 4 5 5 5 5 5 4 3 2 1]\n",
        "```"
      ],
      "id": "94fa1113"
    },
    {
      "cell_type": "code",
      "source": [
        "b = np.array([1, 2, 3, 4, 5, 6, 7, 6, 5, 4, 3, 2, 1])\n",
        "print(np.where(b > 5, 5, b))  # Your expression"
      ],
      "metadata": {
        "colab": {
          "base_uri": "https://localhost:8080/"
        },
        "id": "r8A1aBo4QGKg",
        "outputId": "2aee3499-90d4-4124-8c4f-1eb8944a3d00"
      },
      "id": "r8A1aBo4QGKg",
      "execution_count": null,
      "outputs": [
        {
          "output_type": "stream",
          "name": "stdout",
          "text": [
            "[1 2 3 4 5 5 5 5 5 4 3 2 1]\n"
          ]
        }
      ]
    },
    {
      "cell_type": "markdown",
      "metadata": {
        "id": "de29186a"
      },
      "source": [
        "#### Question 2\n",
        ">Given an array `c` below, write an ***expression*** that gives an array of the *indices* of all non-zero numbers in `c`.\n",
        "\n",
        "*Example:*\n",
        "```python\n",
        ">>> c = np.array([0, 10, 11, 0, 0, 12, 0, 13, 14])\n",
        ">>> print(___) # Your expression\n",
        "[1 2 5 7 8]\n",
        "```"
      ],
      "id": "de29186a"
    },
    {
      "cell_type": "code",
      "metadata": {
        "id": "EYfy5dwlGrui",
        "colab": {
          "base_uri": "https://localhost:8080/"
        },
        "outputId": "1c293a53-dfcf-4223-b25a-4b69ba5badd3"
      },
      "source": [
        "c = np.array([0, 10, 11, 0, 0, 12, 0, 13, 14])\n",
        "\n",
        "# Your code here\n",
        "print(np.where(c != 0)[0])"
      ],
      "id": "EYfy5dwlGrui",
      "execution_count": null,
      "outputs": [
        {
          "output_type": "stream",
          "name": "stdout",
          "text": [
            "[1 2 5 7 8]\n"
          ]
        }
      ]
    },
    {
      "cell_type": "markdown",
      "metadata": {
        "id": "npF_tBUbWoaX"
      },
      "source": [
        "### Aggregate functions"
      ],
      "id": "npF_tBUbWoaX"
    },
    {
      "cell_type": "code",
      "metadata": {
        "id": "T6fV9s-4Wnzo",
        "colab": {
          "base_uri": "https://localhost:8080/"
        },
        "outputId": "bd7e07af-3356-43c4-8c6d-3040fc050f05"
      },
      "source": [
        "s = np.array([[1, 2, 3], [4, 5, 6], [7, 8, 9]])\n",
        "print(s)\n",
        "\n",
        "# Maximum number for the whole matrix\n",
        "arr_max = s.max()  # fill in the blank\n",
        "print(\"Max:\", arr_max, sep=\"\\n\")\n",
        "\n",
        "# Minimum number for the whole matrix\n",
        "arr_min = s.min()\n",
        "print(\"Min:\", arr_min, sep=\"\\n\")\n",
        "\n",
        "# Max element in each column\n",
        "col_max = s.max(axis=0)\n",
        "print(\"Max in each column:\", col_max, sep=\"\\n\")\n",
        "\n",
        "# Min element in each row\n",
        "row_min = s.min(axis=1)\n",
        "print(\"Min in each row:\", row_min, sep=\"\\n\")"
      ],
      "id": "T6fV9s-4Wnzo",
      "execution_count": null,
      "outputs": [
        {
          "output_type": "stream",
          "name": "stdout",
          "text": [
            "[[1 2 3]\n",
            " [4 5 6]\n",
            " [7 8 9]]\n",
            "Max:\n",
            "9\n",
            "Min:\n",
            "1\n",
            "Max in each column:\n",
            "[7 8 9]\n",
            "Min in each row:\n",
            "[1 4 7]\n"
          ]
        }
      ]
    },
    {
      "cell_type": "markdown",
      "metadata": {
        "id": "9339e451"
      },
      "source": [
        "#### Question 1\n",
        ">Given an array `arr` of any shape, which of the following expressions returns the mean of `arr`, assuming there's no error?\n",
        "><ol type='A'>\n",
        "    <li><code>np.mean(arr)</code></li>\n",
        "    <li><code>arr.mean()</code></li>\n",
        "    <li><code>arr.sum() / arr.size</code></li>\n",
        "    <li>All of the above</li>\n",
        "</ol>"
      ],
      "id": "9339e451"
    },
    {
      "cell_type": "code",
      "source": [
        "# ANSWER: D\n",
        "\n",
        "# Example 1\n",
        "print(\"Example 1:\")\n",
        "arr = np.arange(9).reshape(3, 3)\n",
        "print(arr)\n",
        "print(\"Mean of arr:\", arr.mean())\n",
        "print(\"Mean of arr:\", np.mean(arr))\n",
        "print(\"Mean of arr:\", arr.sum() / arr.size)\n",
        "\n",
        "print(\"\\n\", \"-\" * 30, \"\\n\")\n",
        "# Example 2\n",
        "print(\"Example 2:\")\n",
        "arr = np.random.random((2, 5))\n",
        "print(arr)\n",
        "print(\"Mean of arr:\", arr.mean())\n",
        "print(\"Mean of arr:\", np.mean(arr))\n",
        "print(\"Mean of arr:\", arr.sum() / arr.size)"
      ],
      "metadata": {
        "id": "WtjyoEXnysZe",
        "colab": {
          "base_uri": "https://localhost:8080/"
        },
        "outputId": "44c2feb4-c108-4022-c32e-827d92221ca4"
      },
      "id": "WtjyoEXnysZe",
      "execution_count": null,
      "outputs": [
        {
          "output_type": "stream",
          "name": "stdout",
          "text": [
            "Example 1:\n",
            "[[0 1 2]\n",
            " [3 4 5]\n",
            " [6 7 8]]\n",
            "Mean of arr: 4.0\n",
            "Mean of arr: 4.0\n",
            "Mean of arr: 4.0\n",
            "\n",
            " ------------------------------ \n",
            "\n",
            "Example 2:\n",
            "[[0.25896552 0.69035138 0.75682184 0.27727553 0.92754424]\n",
            " [0.97529609 0.95615668 0.63094342 0.16325321 0.7692742 ]]\n",
            "Mean of arr: 0.640588208145928\n",
            "Mean of arr: 0.640588208145928\n",
            "Mean of arr: 0.640588208145928\n"
          ]
        }
      ]
    }
  ]
}